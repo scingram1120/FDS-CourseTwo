{
 "cells": [
  {
   "cell_type": "code",
   "execution_count": null,
   "id": "2fb0bfba",
   "metadata": {},
   "outputs": [],
   "source": [
    "def begin():\n",
    "    print(\"Hey Python?\")\n",
    "    print(\"What?\")\n",
    "    kid = int(input(\"If I have this many kids: (enter kid number)\"))\n",
    "    print(\"How many grand kids might I have?\")\n",
    "    kids()\n",
    "\n",
    "def kids():\n",
    "    import math as m\n",
    "    kids = kid * 2\n",
    "    kids = kids * kids\n",
    "    print(\"If you have\", kids, \"kids, then you could possibly have\", kids, \"grandkids.\")\n",
    "    choice = input(\"Would you like to try again? (Y/N)\")\n",
    "    while True:\n",
    "        if choice == 'Y' or choice == 'y':\n",
    "            begin()\n",
    "        else:\n",
    "            print(\"Goodbye\")\n",
    "            break\n",
    "\n"
   ]
  },
  {
   "cell_type": "code",
   "execution_count": null,
   "id": "e95814d0",
   "metadata": {},
   "outputs": [],
   "source": [
    "            \n",
    "begin()"
   ]
  },
  {
   "cell_type": "code",
   "execution_count": null,
   "id": "bc10c4e9",
   "metadata": {},
   "outputs": [],
   "source": [
    "print(\"Hey Python?\")\n",
    "print(\"What?\")\n",
    "kid = int(input(\"If I have this many kids: (enter kid number)\"))\n",
    "print(\"How many grand kids might I have?\")\n",
    "kids = kid * 2\n",
    "kids = kids * kids\n",
    "print(\"If you have\", kids, \"kids, then you could possibly have\", kids, \"grandkids.\")"
   ]
  },
  {
   "cell_type": "code",
   "execution_count": null,
   "id": "0f92fcf6",
   "metadata": {},
   "outputs": [],
   "source": []
  },
  {
   "cell_type": "code",
   "execution_count": null,
   "id": "60075295",
   "metadata": {},
   "outputs": [],
   "source": []
  }
 ],
 "metadata": {
  "kernelspec": {
   "display_name": "Python 3 (ipykernel)",
   "language": "python",
   "name": "python3"
  },
  "language_info": {
   "codemirror_mode": {
    "name": "ipython",
    "version": 3
   },
   "file_extension": ".py",
   "mimetype": "text/x-python",
   "name": "python",
   "nbconvert_exporter": "python",
   "pygments_lexer": "ipython3",
   "version": "3.9.12"
  }
 },
 "nbformat": 4,
 "nbformat_minor": 5
}
