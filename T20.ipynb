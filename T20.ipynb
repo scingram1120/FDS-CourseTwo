{
 "cells": [
  {
   "cell_type": "markdown",
   "id": "675936fe-2793-4030-9677-157a8cc476af",
   "metadata": {},
   "source": [
    "# Machine Learning II"
   ]
  },
  {
   "cell_type": "markdown",
   "id": "dc19481e-0e2b-490f-bb03-b32a57cb1faf",
   "metadata": {},
   "source": [
    "Today, we will cover two of the more common machine learning algorithms, as well as a powerful technique for reducing the dimensionality (the number of predictor variables) of the data prior to applying a machine learning algorithm to the data."
   ]
  },
  {
   "cell_type": "markdown",
   "id": "472fca53-4b43-4bc4-9485-af9e055c797c",
   "metadata": {},
   "source": [
    "Specifically, this tutorial will cover\n",
    "\n",
    "- Support Vector Machines\n",
    "- Using Principal Components Anaysis to simplfy predictor variables\n",
    "- Gaussian Naive Bayes Classifiers"
   ]
  },
  {
   "cell_type": "markdown",
   "id": "a2e16efd-469c-4256-9c1b-951051fc5dbd",
   "metadata": {},
   "source": [
    "---"
   ]
  },
  {
   "cell_type": "markdown",
   "id": "c8727954-6efc-4280-a51b-13a89a2d8812",
   "metadata": {},
   "source": [
    "### Support Vector Machine (SVM)"
   ]
  },
  {
   "cell_type": "markdown",
   "id": "c55c0f57-42a4-471d-a59d-2ca5ff050fea",
   "metadata": {},
   "source": [
    "A Support Vector Machine (SVM) is a supervised machine learning algorithm primarily used for classification tasks. It works by finding the optimal decision boundary that best separates the data into different classes. The key concept behind SVM is to maximize the \"margin\" (distance) between classes, which is defined as the distance between the decision boundary and the nearest data points from each class. These nearest points are called *support vectors*, and they determine the position and orientation of the boundary.\n",
    "\n",
    "SVM can handle both linearly separable and non-linearly separable data. For linearly separable data, the algorithm finds a straight-line boundary that best separates the classes. However, for non-linearly separable data, SVM uses a technique called the kernel trick. The kernel trick involves transforming the input data into a higher-dimensional space where it becomes linearly separable, allowing the SVM to find the optimal separating boundary.\n",
    "\n",
    "Here's a step-by-step overview of how SVM works:\n",
    "\n",
    "Determine the optimal boundary: Find the boundary that best separates the classes by maximizing the margin between them. This is achieved by minimizing a cost function that considers both the margin size and the classification error.\n",
    "\n",
    "Identify support vectors: Find the data points that lie closest to the decision boundary, as they are critical in defining the optimal boundary.\n",
    "\n",
    "Make predictions: For a new input data point, determine which side of the decision boundary it lies on.\n",
    "\n",
    "SVM is known for its effectiveness in high-dimensional spaces and robustness against overfitting, making it suitable for various applications, including image classification, text categorization, and bioinformatics."
   ]
  },
  {
   "cell_type": "markdown",
   "id": "7a60b821-66fe-418c-a285-8986fc4676b8",
   "metadata": {},
   "source": [
    "First, let's import our needed packages."
   ]
  },
  {
   "cell_type": "code",
   "execution_count": 54,
   "id": "ac84a352-a47c-47fd-bdeb-cead8015ac03",
   "metadata": {},
   "outputs": [],
   "source": [
    "#Done\n",
    "import numpy as np\n",
    "import matplotlib.pyplot as plt\n",
    "from sklearn.datasets import make_blobs\n",
    "from sklearn.model_selection import train_test_split\n",
    "from sklearn.svm import SVC\n",
    "from sklearn.metrics import classification_report, accuracy_score\n",
    "from sklearn.metrics import accuracy_score\n",
    "from sklearn.metrics import confusion_matrix"
   ]
  },
  {
   "cell_type": "markdown",
   "id": "58f6b3ba-6033-4432-8baf-fc0c77915f96",
   "metadata": {},
   "source": [
    "Now well create some toy data to play with."
   ]
  },
  {
   "cell_type": "code",
   "execution_count": 13,
   "id": "3cdc264f-a714-4b1a-844a-77a775640d04",
   "metadata": {
    "scrolled": true
   },
   "outputs": [
    {
     "data": {
      "text/plain": [
       "array([[ 5.18147309,  1.30870902],\n",
       "       [ 5.66162677, -0.68526242],\n",
       "       [-2.53079318,  7.32194864],\n",
       "       [ 5.51523465,  1.64966144],\n",
       "       [ 5.10351861,  5.29381096],\n",
       "       [ 2.18529616,  4.0174526 ],\n",
       "       [-2.16664763,  7.02110408],\n",
       "       [ 5.1866884 ,  4.97504303],\n",
       "       [-1.97917613, 10.57515833],\n",
       "       [ 0.47604159,  9.7724188 ],\n",
       "       [-3.47021953,  8.54757613],\n",
       "       [-3.45218123, 10.37364948],\n",
       "       [-1.19312576,  7.06093629],\n",
       "       [-2.50101609,  8.63894671],\n",
       "       [ 7.07687736,  2.83542575],\n",
       "       [-2.35387354, 10.56411811],\n",
       "       [ 1.96883039,  2.84254599],\n",
       "       [ 0.92111292, 10.02855656],\n",
       "       [-3.35681395,  9.83551402],\n",
       "       [-0.26472673,  6.77132443],\n",
       "       [-4.0686883 , 10.27362149],\n",
       "       [-3.05754085,  7.7306425 ],\n",
       "       [ 4.620284  ,  0.53756269],\n",
       "       [ 4.46863026,  0.31678197],\n",
       "       [-3.26035664,  9.8823822 ],\n",
       "       [ 4.7784225 ,  1.72408611],\n",
       "       [ 8.08497077,  0.74541358],\n",
       "       [ 4.79507238,  2.92542092],\n",
       "       [ 3.42526658,  2.21379974],\n",
       "       [-2.90181861,  7.80830827],\n",
       "       [-1.57022627, 12.51901513],\n",
       "       [-1.50812987,  7.64283404],\n",
       "       [ 7.78343905,  2.02959137],\n",
       "       [-3.22362155, 10.3845242 ],\n",
       "       [ 4.79616059,  0.73635403],\n",
       "       [-1.20757008,  7.04490322],\n",
       "       [ 6.29994275,  1.15714345],\n",
       "       [ 4.53415116,  0.03554376],\n",
       "       [ 3.81769177,  0.27842805],\n",
       "       [ 1.24164568,  1.13196165],\n",
       "       [-4.94018957,  8.23951161],\n",
       "       [ 0.50869982,  9.29361063],\n",
       "       [ 3.91977408,  2.96972958],\n",
       "       [ 5.13733094,  4.33373963],\n",
       "       [-2.81697517,  9.49676188],\n",
       "       [-1.93057998,  7.98209452],\n",
       "       [ 4.93086484,  2.37032262],\n",
       "       [-3.74571797,  8.63537636],\n",
       "       [ 3.69204856,  0.59078445],\n",
       "       [-2.32756987, 10.07369521],\n",
       "       [ 5.63847054,  2.9785225 ],\n",
       "       [ 2.06956472,  2.2987115 ],\n",
       "       [ 2.27414084,  3.80317615],\n",
       "       [-2.86067264,  9.58566624],\n",
       "       [ 5.17158126,  0.77559123],\n",
       "       [-1.6851412 ,  9.83634365],\n",
       "       [ 3.0960013 ,  3.07085202],\n",
       "       [-0.6554447 ,  7.70119442],\n",
       "       [-2.39751429,  8.39778437],\n",
       "       [-4.87483281,  7.86253539],\n",
       "       [ 4.66934824,  4.65546938],\n",
       "       [ 0.02842928,  7.03378133],\n",
       "       [-1.93797285,  7.90563078],\n",
       "       [ 4.19979612, -1.70990418],\n",
       "       [ 6.52675433,  2.08119925],\n",
       "       [ 4.76116613,  0.88971095],\n",
       "       [ 3.59885073,  1.19376907],\n",
       "       [ 3.31908332,  1.45895234],\n",
       "       [ 6.50833013,  2.38024303],\n",
       "       [-4.99025911,  9.12398689],\n",
       "       [ 5.96054499,  3.2747851 ],\n",
       "       [ 5.23371223,  1.00679339],\n",
       "       [ 3.79146665,  0.70457315],\n",
       "       [ 5.96841614,  0.60343556],\n",
       "       [-3.63248257,  8.49002669],\n",
       "       [ 5.74410922,  1.33121693],\n",
       "       [ 7.04365012,  2.09172133],\n",
       "       [ 3.71704471,  3.18179565],\n",
       "       [-4.35078735,  9.61540296],\n",
       "       [ 2.5275057 ,  4.90350371],\n",
       "       [-5.26906616,  8.11462608],\n",
       "       [-1.20915631, 11.18427017],\n",
       "       [ 5.03182535,  1.1620606 ],\n",
       "       [-3.85194566,  8.51954633],\n",
       "       [ 5.15622853,  0.64960017],\n",
       "       [ 3.59694106,  2.04900756],\n",
       "       [ 5.56319424,  1.64829707],\n",
       "       [-2.04028167,  7.87132386],\n",
       "       [-3.26911012,  7.96895936],\n",
       "       [-0.77631563, 10.70036941],\n",
       "       [ 4.71751344,  0.6436495 ],\n",
       "       [-1.93096465, 11.47514463],\n",
       "       [ 5.85106062,  0.49770517],\n",
       "       [-3.80278739,  8.21147486],\n",
       "       [-1.04455423,  9.5402879 ],\n",
       "       [ 4.53959228,  3.5013974 ],\n",
       "       [ 5.65232982,  5.60627826],\n",
       "       [-5.0811708 ,  9.3097003 ],\n",
       "       [ 4.79881052,  3.17538908],\n",
       "       [ 6.56182111,  1.32024909],\n",
       "       [-4.42967187,  8.47908415],\n",
       "       [-2.41606367,  7.18553365],\n",
       "       [-2.05961063,  8.0179669 ],\n",
       "       [-0.68068112, 10.21737898],\n",
       "       [-0.85959839, 10.50433432],\n",
       "       [-3.25066593,  8.26911852],\n",
       "       [-3.24621966, 10.70568169],\n",
       "       [-1.67409112,  9.48946161],\n",
       "       [ 5.67248036,  4.16298018],\n",
       "       [ 4.76366813,  0.59511496],\n",
       "       [ 1.19425608,  6.02666182],\n",
       "       [-3.9802764 , 11.49418118],\n",
       "       [-0.14456715,  8.18505378],\n",
       "       [-0.16415959,  8.65304405],\n",
       "       [-3.4719282 , 11.97793122],\n",
       "       [-4.07961146,  9.75365169],\n",
       "       [ 1.89886359,  4.13936548],\n",
       "       [ 6.16055698,  1.05012383],\n",
       "       [ 6.03367836,  1.45153203],\n",
       "       [ 3.33072574,  5.32098933],\n",
       "       [ 3.06271716,  2.77964411],\n",
       "       [ 6.03124831,  4.14219026],\n",
       "       [-1.24354651,  7.5592662 ],\n",
       "       [ 3.791077  ,  1.0518605 ],\n",
       "       [ 5.77846264,  0.17374234],\n",
       "       [ 7.27182718,  1.57471202],\n",
       "       [ 3.75403995,  0.05656506],\n",
       "       [-1.99066327,  8.39815448],\n",
       "       [ 6.12176291,  5.02823631],\n",
       "       [ 5.22643603,  0.46936203],\n",
       "       [-1.93673785,  9.91154137],\n",
       "       [-2.097117  ,  8.89517266],\n",
       "       [-2.36992231,  8.53587437],\n",
       "       [-2.12205799,  5.95303774],\n",
       "       [-2.69423487,  8.53252022],\n",
       "       [-3.7772308 ,  8.83070782],\n",
       "       [-7.69522537,  7.3752659 ],\n",
       "       [ 4.75438482,  1.20891777],\n",
       "       [-2.03540518,  9.43197456],\n",
       "       [ 8.14356353,  0.67989243],\n",
       "       [ 0.01754288, 10.24218169],\n",
       "       [-1.19390137, 12.0491549 ],\n",
       "       [ 7.121722  ,  2.1582491 ],\n",
       "       [-6.70078979, 10.32933014],\n",
       "       [ 0.88625229, 10.66623055],\n",
       "       [-2.40634959,  7.28989448],\n",
       "       [-1.06983782,  9.50596536],\n",
       "       [-2.63256036,  9.56012929],\n",
       "       [ 4.60643629,  2.1608935 ],\n",
       "       [-2.10840906,  9.56860326],\n",
       "       [-4.12972742,  9.51708186],\n",
       "       [ 4.6094529 ,  0.3691227 ],\n",
       "       [-2.75205378,  9.95559366],\n",
       "       [ 4.83235185,  2.79627182],\n",
       "       [-3.13657067,  6.67266221],\n",
       "       [-1.70121798, 10.39949444],\n",
       "       [ 6.52698303,  1.22248864],\n",
       "       [ 3.60536222,  0.24269288],\n",
       "       [ 3.42971764, -0.30243625],\n",
       "       [-2.23210814,  9.63079394],\n",
       "       [-2.56651929, 11.51771598],\n",
       "       [ 2.32294389, -0.27877236],\n",
       "       [ 5.27100226,  1.29959451],\n",
       "       [-3.92336952,  9.2602463 ],\n",
       "       [ 3.85970888,  1.28107658],\n",
       "       [ 3.3243262 ,  2.36306922],\n",
       "       [-5.57923157,  8.97186393],\n",
       "       [-4.48831876,  6.90155555],\n",
       "       [-3.76240289,  8.4989877 ],\n",
       "       [-2.56473645,  7.14440127],\n",
       "       [-4.20888357,  9.77203402],\n",
       "       [ 2.40217072,  2.87392046],\n",
       "       [-3.86406757,  6.59053057],\n",
       "       [-0.64813562,  9.03065903],\n",
       "       [ 2.98028499,  1.6686278 ],\n",
       "       [ 6.96170861,  3.50800301],\n",
       "       [-2.4883946 , 11.33994065],\n",
       "       [-4.52661195, 10.48286524],\n",
       "       [ 4.25756196,  0.52106782],\n",
       "       [ 0.68524764,  0.69813728],\n",
       "       [-2.4011525 ,  6.73468903],\n",
       "       [ 7.93707552,  4.78171503],\n",
       "       [-2.91330667,  7.01783304],\n",
       "       [-1.68512132, 15.17865651],\n",
       "       [ 6.24994733,  1.05014269],\n",
       "       [ 5.73100359,  1.47674287],\n",
       "       [-3.96203614,  6.75460021],\n",
       "       [-3.99228638,  8.91904556],\n",
       "       [ 0.10266046,  6.72605992],\n",
       "       [ 2.55272764,  3.04464576],\n",
       "       [ 4.46015396,  1.61961832],\n",
       "       [ 6.20007041,  1.73787787],\n",
       "       [ 5.62254556,  3.18518202],\n",
       "       [-3.65368356, 10.10164253],\n",
       "       [ 3.20241536,  2.76024036],\n",
       "       [ 6.01213423,  1.71726804],\n",
       "       [-2.43628268,  7.97172557],\n",
       "       [-4.41528322, 10.0647719 ],\n",
       "       [ 4.2088279 ,  3.12123729],\n",
       "       [-4.6342953 ,  9.32926411],\n",
       "       [-1.3276511 ,  9.28847538],\n",
       "       [ 5.30056916,  1.0712104 ],\n",
       "       [-2.84219322,  8.22548463],\n",
       "       [-4.27933358,  7.10035553],\n",
       "       [ 3.49036808,  1.63165424],\n",
       "       [ 7.24566371, -0.23499265],\n",
       "       [ 9.56608813,  3.76448954],\n",
       "       [ 5.158545  ,  1.7649408 ],\n",
       "       [-2.62441382, 10.61993876],\n",
       "       [-4.09405574,  8.10820976],\n",
       "       [ 4.67909512,  2.76996695],\n",
       "       [ 0.31552916,  9.66225687],\n",
       "       [ 3.23888963, -0.23930989],\n",
       "       [ 5.01686213,  3.20655399],\n",
       "       [ 5.97698622,  0.16563872],\n",
       "       [-2.09338515, 10.26520272],\n",
       "       [ 3.52031802,  2.31553754],\n",
       "       [ 4.20807894,  0.40714774],\n",
       "       [ 3.29632389,  1.01414145],\n",
       "       [ 5.56236998,  2.47116993],\n",
       "       [ 1.33197148,  1.83057762],\n",
       "       [-2.06649234, 10.33777933],\n",
       "       [-3.56805597, 10.37817946],\n",
       "       [ 5.40624656,  2.50702905],\n",
       "       [ 4.43521069,  0.44430498],\n",
       "       [-0.9827948 , 10.05651213],\n",
       "       [-3.93242071,  7.70898967],\n",
       "       [-0.96779582,  9.67473561],\n",
       "       [ 3.41866419, -0.91464168],\n",
       "       [-4.77379081,  8.34125361],\n",
       "       [ 6.33335802, -0.84081349],\n",
       "       [-3.67778423,  9.36061987],\n",
       "       [ 6.72864493,  2.00677583],\n",
       "       [ 5.05543484,  0.52626308],\n",
       "       [-1.31352785,  9.99087855],\n",
       "       [ 2.21557314,  4.16016851],\n",
       "       [ 2.03581094,  2.0501056 ],\n",
       "       [ 5.1800431 ,  1.31416654],\n",
       "       [ 4.61025782,  1.51131586],\n",
       "       [ 3.03025103,  0.0304679 ],\n",
       "       [-2.93264856, 13.36655679],\n",
       "       [ 4.45661508,  3.95367578],\n",
       "       [ 4.4658626 ,  2.61590844],\n",
       "       [ 2.08879458,  1.01416965],\n",
       "       [ 3.57968082,  2.88612755],\n",
       "       [ 6.68414267,  1.02665546],\n",
       "       [ 5.48756552,  4.27967948],\n",
       "       [ 5.47083326,  4.42555194],\n",
       "       [-3.2857793 ,  9.14528475],\n",
       "       [ 6.03559185,  2.26651689],\n",
       "       [ 3.92900962,  2.57685047],\n",
       "       [-1.79908654, 10.25370061],\n",
       "       [-2.17501587,  5.87881393],\n",
       "       [-2.86673808, 10.15668692],\n",
       "       [ 6.49285623,  3.23982999],\n",
       "       [ 5.25438355,  1.92085809],\n",
       "       [ 5.16296263,  1.62260884],\n",
       "       [-3.59723718,  9.38589204],\n",
       "       [-4.22262562,  9.78624199],\n",
       "       [-3.59227282,  9.99296819],\n",
       "       [ 4.62712261,  4.34108031],\n",
       "       [-2.34975544,  8.20872508],\n",
       "       [ 4.29158891,  3.73121265],\n",
       "       [-5.74942576,  9.31261303],\n",
       "       [ 2.93168615,  1.74536251],\n",
       "       [-2.19070211,  8.05393912],\n",
       "       [-3.83558964,  8.11799646],\n",
       "       [-2.41282929, 12.95547351],\n",
       "       [-2.88384302,  8.639667  ],\n",
       "       [ 4.99842681,  1.99331753],\n",
       "       [-1.41118132,  6.43394073],\n",
       "       [-4.71346861,  7.51376606],\n",
       "       [ 5.44134634,  0.40908129],\n",
       "       [ 3.26321745,  1.35788081],\n",
       "       [ 2.74666522, -1.2896018 ],\n",
       "       [-3.2758764 ,  8.71723177],\n",
       "       [-2.76725476,  9.6607675 ],\n",
       "       [-1.75201742,  8.89775987],\n",
       "       [-3.01362841, 10.22863688],\n",
       "       [-0.48213978,  7.88201498],\n",
       "       [-3.2132688 ,  9.22347105],\n",
       "       [ 3.88621755,  2.34444958],\n",
       "       [ 5.96692777, -1.56464681],\n",
       "       [-3.26428861, 10.75660708],\n",
       "       [ 4.2415362 ,  3.52768321],\n",
       "       [-1.59577281, 10.83119115],\n",
       "       [ 0.90365578,  5.89094565],\n",
       "       [ 1.91446693,  1.88429337],\n",
       "       [-1.95940836,  6.19342188],\n",
       "       [ 4.64826876,  2.04833863],\n",
       "       [-0.20316036,  6.71690669],\n",
       "       [-2.36238038,  5.83417586],\n",
       "       [ 5.07260976,  1.89278871],\n",
       "       [-3.38020998,  9.19176227],\n",
       "       [-1.20861823, 10.02169228],\n",
       "       [-2.14526173, 11.10571454],\n",
       "       [ 1.64661176,  1.41074811],\n",
       "       [ 1.37887958,  0.36023159],\n",
       "       [ 3.9049014 ,  0.61341869],\n",
       "       [ 7.33930545,  3.3837933 ]])"
      ]
     },
     "execution_count": 13,
     "metadata": {},
     "output_type": "execute_result"
    }
   ],
   "source": [
    "# Create two 2D blobs of data\n",
    "X, y = make_blobs(n_samples=300, centers=2, \n",
    "                  random_state=42, cluster_std=1.6)\n",
    "\n",
    "X.shape\n",
    "y.shape\n",
    "\n",
    "#print(X)\n",
    "#print(y)\n",
    "X\n"
   ]
  },
  {
   "cell_type": "markdown",
   "id": "185e9e2e-7a24-4729-82d4-405d09793652",
   "metadata": {},
   "source": [
    "Now let's look at our toy data."
   ]
  },
  {
   "cell_type": "markdown",
   "id": "1be5fc34-a659-4458-8303-7fc4b0792dbc",
   "metadata": {},
   "source": [
    "---"
   ]
  },
  {
   "cell_type": "markdown",
   "id": "073df502-e275-49eb-9b00-fa48b4ead1ed",
   "metadata": {},
   "source": [
    "Make a scatter plot of our new toy data in the cell below. Use the target variable, `y`, to color code the data."
   ]
  },
  {
   "cell_type": "code",
   "execution_count": 15,
   "id": "f8815185-153e-414b-8121-dec62fc7cf04",
   "metadata": {},
   "outputs": [
    {
     "data": {
      "text/plain": [
       "<matplotlib.collections.PathCollection at 0x7f860a98d040>"
      ]
     },
     "execution_count": 15,
     "metadata": {},
     "output_type": "execute_result"
    },
    {
     "data": {
      "image/png": "[encoded data removed]",
      "text/plain": [
       "<Figure size 432x288 with 1 Axes>"
      ]
     },
     "metadata": {
      "needs_background": "light"
     },
     "output_type": "display_data"
    }
   ],
   "source": [
    "# Plot the blobs of data by splitting the x variable's two columns\n",
    "plt.scatter(X[:,0], X[:,1], c=y, alpha =.5)\n"
   ]
  },
  {
   "cell_type": "markdown",
   "id": "93213fe8-dec5-4e48-90f5-2d8f2586a261",
   "metadata": {},
   "source": [
    "---"
   ]
  },
  {
   "cell_type": "markdown",
   "id": "cd866541-5918-4369-8340-19e24dd74c71",
   "metadata": {},
   "source": [
    "These two \"blobs\" of data look like they are clearly separable. So let's make a classifier! The following steps should look familiar. They follow our basic machine learning workflow, which is:\n",
    "\n",
    "- load the needed things from numpy, matplotlib and, the problem-specific tools from scikit-learn (already done)\n",
    "- get the data and wrangle it into shape if necessary (already done)\n",
    "- split the data into training and test sets\n",
    "- train the machine learning algorithm\n",
    "- evaluate the performance of the algorithm"
   ]
  },
  {
   "cell_type": "markdown",
   "id": "b2e3defd-2d36-433f-b0fa-41941f6c9be2",
   "metadata": {},
   "source": [
    "---"
   ]
  },
  {
   "cell_type": "markdown",
   "id": "bce5d074-5855-4719-a758-76edaa398339",
   "metadata": {},
   "source": [
    "So now let's split the data into training and test sets. Use the cell below to do this."
   ]
  },
  {
   "cell_type": "code",
   "execution_count": 16,
   "id": "37d7af33",
   "metadata": {},
   "outputs": [],
   "source": [
    "# Split the data into training and test sets (70% training, 30% testing)\n",
    "X_train, X_test, y_train, y_test = train_test_split(X, y, \n",
    "                                                    test_size=0.3, \n",
    "                                                    random_state=42)"
   ]
  },
  {
   "cell_type": "markdown",
   "id": "6aa3f86e-ff4c-425e-8a9e-ba9775e9ea27",
   "metadata": {},
   "source": [
    "---"
   ]
  },
  {
   "cell_type": "markdown",
   "id": "ad5d6b78-01e3-4e8c-b801-f00c9650213f",
   "metadata": {},
   "source": [
    "Now we'll birth to a support vector classifier."
   ]
  },
  {
   "cell_type": "code",
   "execution_count": 17,
   "id": "84120274-15e0-48e1-8f1c-c02a3b50814b",
   "metadata": {},
   "outputs": [],
   "source": [
    "# Create a Support Vector Machine (SVM) classifier and train it on the training data\n",
    "svm = SVC(kernel='linear', C=1)"
   ]
  },
  {
   "cell_type": "markdown",
   "id": "b75a3aaa-ab76-4f12-afed-00b70e69e804",
   "metadata": {},
   "source": [
    "---"
   ]
  },
  {
   "cell_type": "markdown",
   "id": "2ee37016-f991-4e85-9009-305db6393b91",
   "metadata": {},
   "source": [
    "And now we can train it on out training data. Use the cell below to so this. As always in scikit-learn, we use the `.fit()` method to do this."
   ]
  },
  {
   "cell_type": "code",
   "execution_count": 19,
   "id": "df95b85b-760a-4bdb-becf-dc8bf9de42b2",
   "metadata": {},
   "outputs": [
    {
     "data": {
      "text/plain": [
       "SVC(C=1, kernel='linear')"
      ]
     },
     "execution_count": 19,
     "metadata": {},
     "output_type": "execute_result"
    }
   ],
   "source": [
    "svm.fit(X_train, y_train)"
   ]
  },
  {
   "cell_type": "markdown",
   "id": "9f2b2cc1-81f1-4ca3-99bc-bc4f408076ad",
   "metadata": {},
   "source": [
    "---"
   ]
  },
  {
   "cell_type": "markdown",
   "id": "4987d6b6-47c0-460a-87ff-a7c33cd68dcb",
   "metadata": {},
   "source": [
    "Now let's make a plot of the training data and the decision boundary that the SVM found. Don't worry about the plotting code below; it's a bit next-level. But if you are curious about it, please ask!"
   ]
  },
  {
   "cell_type": "code",
   "execution_count": 20,
   "id": "5626cf12-03f6-4914-bd24-2ac2b9d7c007",
   "metadata": {},
   "outputs": [
    {
     "data": {
      "image/png": "[encoded data removed]",
      "text/plain": [
       "<Figure size 432x288 with 1 Axes>"
      ]
     },
     "metadata": {
      "needs_background": "light"
     },
     "output_type": "display_data"
    }
   ],
   "source": [
    "# Scatter plot of the test data showing the decision boundary\n",
    "plt.scatter(X_train[:, 0], X_train[:, 1], c=y_train, cmap='viridis')\n",
    "\n",
    "# Create the decision boundary\n",
    "ax = plt.gca()\n",
    "xlim = ax.get_xlim()\n",
    "ylim = ax.get_ylim()\n",
    "\n",
    "xx = np.linspace(xlim[0], xlim[1], 30)\n",
    "yy = np.linspace(ylim[0], ylim[1], 30)\n",
    "YY, XX = np.meshgrid(yy, xx)\n",
    "xy = np.vstack([XX.ravel(), YY.ravel()]).T\n",
    "Z = svm.decision_function(xy).reshape(XX.shape)\n",
    "\n",
    "# Plot the decision boundary\n",
    "ax.contour(XX, YY, Z, colors='k', levels=[-1, 0, 1], \n",
    "           alpha=0.5, linestyles=['--', '-', '--'])\n",
    "\n",
    "plt.title(\"Training Data with SVM Decision Boundary\")\n",
    "plt.show()\n"
   ]
  },
  {
   "cell_type": "markdown",
   "id": "614703b9-fea0-422e-b51b-9608d75c920b",
   "metadata": {},
   "source": [
    "Here, we can see the decision boundary (the solid line) and the margins (dashed lines) passing through the support vectors (the closest points from each group to the decision boundary).\n",
    "\n",
    "Now that we have our decision boundary, we can start using our SVM on new data."
   ]
  },
  {
   "cell_type": "markdown",
   "id": "7178a469-5276-4a4f-b419-9541d8371414",
   "metadata": {},
   "source": [
    "---"
   ]
  },
  {
   "cell_type": "markdown",
   "id": "320f2af9-9e65-460f-882d-62296681a079",
   "metadata": {},
   "source": [
    "Use the cell below to generate the predicted `y_pred` data based upon `X_test`. It's the same as we've done before: use the `.predict()` method of our classifier."
   ]
  },
  {
   "cell_type": "code",
   "execution_count": 21,
   "id": "b6dbd9f8-9a8b-4bae-8842-7502e9e1c43a",
   "metadata": {},
   "outputs": [],
   "source": [
    "# Make predictions on the test data\n",
    "y_pred = svm.predict(X_test)"
   ]
  },
  {
   "cell_type": "markdown",
   "id": "bc1d3a01-0568-4c0c-9056-286315d23128",
   "metadata": {},
   "source": [
    "---"
   ]
  },
  {
   "cell_type": "markdown",
   "id": "fd8aae47-0e92-4a80-a619-12a0b8ffe8c0",
   "metadata": {},
   "source": [
    "The fun part! Let's plot the test data showing the predicted category (by color) and the decision boundary."
   ]
  },
  {
   "cell_type": "code",
   "execution_count": 22,
   "id": "6ab1e40a-9d41-4a7c-95bb-d1a5b392c23e",
   "metadata": {
    "tags": []
   },
   "outputs": [
    {
     "data": {
      "image/png": "[encoded data removed]",
      "text/plain": [
       "<Figure size 432x288 with 1 Axes>"
      ]
     },
     "metadata": {
      "needs_background": "light"
     },
     "output_type": "display_data"
    }
   ],
   "source": [
    "# Scatter plot of the test data showing the decision boundary\n",
    "plt.scatter(X_test[:, 0], X_test[:, 1], c=y_test, cmap='viridis')\n",
    "\n",
    "# Create the decision boundary\n",
    "ax = plt.gca()\n",
    "xlim = ax.get_xlim()\n",
    "ylim = ax.get_ylim()\n",
    "\n",
    "xx = np.linspace(xlim[0], xlim[1], 30)\n",
    "yy = np.linspace(ylim[0], ylim[1], 30)\n",
    "YY, XX = np.meshgrid(yy, xx)\n",
    "xy = np.vstack([XX.ravel(), YY.ravel()]).T\n",
    "Z = svm.decision_function(xy).reshape(XX.shape)\n",
    "\n",
    "# Plot the decision boundary\n",
    "ax.contour(XX, YY, Z, colors='k', levels=[-1, 0, 1], alpha=0.5, linestyles=['--', '-', '--'])\n",
    "\n",
    "plt.title(\"Test Data with SVM Decision Boundary\")\n",
    "plt.show()\n"
   ]
  },
  {
   "cell_type": "markdown",
   "id": "c4fccede-155a-43fc-ae16-923f8f9a9db1",
   "metadata": {},
   "source": [
    "Here, we can see that that, even though some of the point fell within the marging, the classification was perfect.\n",
    "\n",
    "For completness though, let's look at the standard evaluation metrics."
   ]
  },
  {
   "cell_type": "markdown",
   "id": "08c41fa6-cf46-4160-9170-dba55b39342d",
   "metadata": {},
   "source": [
    "---"
   ]
  },
  {
   "cell_type": "markdown",
   "id": "447211d3-acb5-4eb2-9d94-a53f69b0acba",
   "metadata": {},
   "source": [
    "Use the cell below to print the confusion matrix, the classification report, and the accuracy score (as we did in the previous tutorial)."
   ]
  },
  {
   "cell_type": "code",
   "execution_count": 32,
   "id": "09356db5-293d-47fe-947b-d825540b8c02",
   "metadata": {},
   "outputs": [
    {
     "name": "stdout",
     "output_type": "stream",
     "text": [
      "1.0  | | | [[42  0]\n",
      " [ 0 48]]  | | |\n",
      "              precision    recall  f1-score   support\n",
      "\n",
      "           0       1.00      1.00      1.00        42\n",
      "           1       1.00      1.00      1.00        48\n",
      "\n",
      "    accuracy                           1.00        90\n",
      "   macro avg       1.00      1.00      1.00        90\n",
      "weighted avg       1.00      1.00      1.00        90\n",
      "\n"
     ]
    }
   ],
   "source": [
    "# Evaluate the classifier's performance\n",
    "from sklearn.metrics import accuracy_score\n",
    "from sklearn.metrics import confusion_matrix\n",
    "from sklearn.metrics import classification_report\n",
    "acc_score = accuracy_score(y_test, y_pred)\n",
    "conf_matrix = confusion_matrix(y_test, y_pred)\n",
    "cls_report = classification_report(y_test, y_pred)\n",
    "print(acc_score, \" | | |\", conf_matrix, \" | | |\")\n",
    "print(cls_report)"
   ]
  },
  {
   "cell_type": "markdown",
   "id": "7d81da55-76ef-465c-8b72-6d9cd03025f9",
   "metadata": {},
   "source": [
    "---"
   ]
  },
  {
   "cell_type": "markdown",
   "id": "17b8a432-6676-42a3-b130-b83c8810bcd2",
   "metadata": {},
   "source": [
    "## Dimesion Reduction via PCA"
   ]
  },
  {
   "cell_type": "markdown",
   "id": "4f61e8e4-1693-4142-9592-3727f79bd2c1",
   "metadata": {},
   "source": [
    "Principal Component Analysis (PCA) is a dimensionality reduction technique used in machine learning, statistics, and data analysis to transform a high-dimensional dataset into a lower-dimensional space while retaining as much information as possible. The primary goal of PCA is to identify and project the data onto the most significant directions (principal components) in the feature space, where the variance of the data is maximized.\n",
    "\n",
    "Here are the basic steps of PCA:\n",
    "\n",
    "**Standardization**: The first step is to standardize the dataset by scaling each feature to have a mean of 0 and a standard deviation of 1. This ensures that all features have equal importance in the analysis and prevents larger-scale features from dominating the results. \n",
    "\n",
    "Simply put, it makes the data unit-independent by converting all the data to their Z-scores. This means that, for example, a questionaire with scores ranging from 0 to 100 won't be weighted more than a hormone measure that ranges from 0 to 5.\n",
    "\n",
    "**Covariance Matrix**: PCA computes the covariance matrix of the standardized dataset, which captures the linear relationships between the features. The covariance matrix helps determine the directions in which the variance of the data is maximized.\n",
    "\n",
    "This a fancy way of saying that we compute the correlation between all the variables. You can think of the covariance matrix as just a numerical version of a pair-pair plot.\n",
    "\n",
    "**Eigenvalues and Eigenvectors**: The next step is to compute the eigenvalues and eigenvectors of the covariance matrix. Eigenvectors represent the directions of the principal components, while eigenvalues represent the magnitude of the variance along each principal component. The eigenvector corresponding to the largest eigenvalue represents the direction with the highest variance, and so on.\n",
    "\n",
    "We can think of the \"Eigenvalues\" as being proportional to \"variance explained\" or $R^2$ - if the first two, say, explain most of the variance, then we can safely use the first two principal components to do our categorization.\n",
    "\n",
    "**Projection onto Principal Components**: Finally, the original dataset is projected onto the principal components (eigenvectors) to obtain the transformed data in the reduced-dimensional space. The number of principal components retained is typically determined by the desired level of variance preservation or the specific problem requirements.\n",
    "\n",
    "In this step, we just effectively re-plot our data with the first and second principal components are the x and y axes."
   ]
  },
  {
   "cell_type": "markdown",
   "id": "404cefa5-3068-418b-951c-8754251451a8",
   "metadata": {},
   "source": [
    "PCA has numerous applications, such as data visualization, noise reduction, feature extraction, and improving the efficiency of other machine learning models by reducing the input dimensionality."
   ]
  },
  {
   "cell_type": "markdown",
   "id": "ef620256-124e-47ce-82db-e19585f89901",
   "metadata": {},
   "source": [
    "### PCA on the Iris data"
   ]
  },
  {
   "cell_type": "markdown",
   "id": "53f512ce-0566-4632-851d-5a5c790a487d",
   "metadata": {},
   "source": [
    "Let's do a PCA on the iris data! The iris data has 4 predictors, and we're going to use PCA to boil these down into 2 predictors - \"principal components\" - that we can then use to do a classification of iris species."
   ]
  },
  {
   "cell_type": "markdown",
   "id": "800541b6-ee5e-4bfd-931c-b557759ddd67",
   "metadata": {},
   "source": [
    "First, let's import out libraries so that the cells below are stand-alone."
   ]
  },
  {
   "cell_type": "code",
   "execution_count": 33,
   "id": "9d27ea1c-7d0d-48ec-b7a4-8bc9323416f8",
   "metadata": {},
   "outputs": [],
   "source": [
    "import numpy as np\n",
    "import matplotlib.pyplot as plt\n",
    "from sklearn.decomposition import PCA\n",
    "from sklearn.datasets import load_iris"
   ]
  },
  {
   "cell_type": "markdown",
   "id": "f2730c06-69fe-4a3c-860d-3b5105d1d319",
   "metadata": {},
   "source": [
    "---"
   ]
  },
  {
   "cell_type": "markdown",
   "id": "2d469cb9-6066-499d-9c83-33a475b77cf1",
   "metadata": {},
   "source": [
    "In the cell below, load the iris dataset. Make your `X` predictor variable equal to the iris data, and your `y` target variable equal to iris target."
   ]
  },
  {
   "cell_type": "code",
   "execution_count": 34,
   "id": "b1886d84-2cd8-4c8b-bbaf-ac42599e65d1",
   "metadata": {},
   "outputs": [],
   "source": [
    "# Load the Iris dataset\n",
    "iris = load_iris()\n",
    "X1 = iris.data     # predictor matrix\n",
    "y1 = iris.target"
   ]
  },
  {
   "cell_type": "markdown",
   "id": "0b1c2773-0ef8-4d00-a1e9-42a1b8717cfa",
   "metadata": {},
   "source": [
    "---"
   ]
  },
  {
   "cell_type": "markdown",
   "id": "1a7b633c-5340-4fdb-b7d3-680b60a7280d",
   "metadata": {},
   "source": [
    "Now we'll do a PCA on the data to reduce the 4 dimensional data to 2 dimensions."
   ]
  },
  {
   "cell_type": "code",
   "execution_count": 35,
   "id": "f9914eaa-29b2-4663-ada3-f6857998f047",
   "metadata": {},
   "outputs": [],
   "source": [
    "# Perform PCA on the Iris dataset, \n",
    "# keeping only the first two principal components\n",
    "pca = PCA(n_components=2)"
   ]
  },
  {
   "cell_type": "markdown",
   "id": "8cea1fd4-5b59-4864-8aa7-b441ffc3a54d",
   "metadata": {},
   "source": [
    "Now we'll make our new shifted / rotated predictor variables based on the PCA."
   ]
  },
  {
   "cell_type": "code",
   "execution_count": 36,
   "id": "a631a9ee-922c-4e25-baed-99bedf316197",
   "metadata": {},
   "outputs": [],
   "source": [
    "# Generate the new predicted data based on the PCA rotation.\n",
    "X1_pca = pca.fit_transform(X1)"
   ]
  },
  {
   "cell_type": "markdown",
   "id": "9e38f09a-fa47-4ddc-a415-5bb9527e7d40",
   "metadata": {},
   "source": [
    "Look at our new PCA transformed data! Look through the plotting code and make sure you understand what it's doing. Ask about the `zip` function if you don't know it yet."
   ]
  },
  {
   "cell_type": "code",
   "execution_count": 38,
   "id": "0bf6b4da-55b8-41e1-84bb-2312f8ddbe83",
   "metadata": {},
   "outputs": [
    {
     "data": {
      "image/png": "[encoded data removed]",
      "text/plain": [
       "<Figure size 432x288 with 1 Axes>"
      ]
     },
     "metadata": {
      "needs_background": "light"
     },
     "output_type": "display_data"
    }
   ],
   "source": [
    "# Scatter plot of the first two principal components \n",
    "# with color coding for species\n",
    "colors = ['red', 'green', 'blue']\n",
    "species = iris.target_names\n",
    "\n",
    "for i, color, target_name in zip(range(3), colors, species):\n",
    "    plt.scatter(X1_pca[y1 == i, 0], X1_pca[y1 == i, 1], \n",
    "                color=color, label=target_name)\n",
    "\n",
    "plt.xlabel(\"First Principal Component\")\n",
    "plt.ylabel(\"Second Principal Component\")\n",
    "plt.legend(loc=\"best\")\n",
    "plt.title(\"PCA on Iris dataset: First two principal components\")\n",
    "plt.show()"
   ]
  },
  {
   "cell_type": "markdown",
   "id": "7cffb3ff-5103-46c2-a22c-2c89a4a25a84",
   "metadata": {},
   "source": [
    "---"
   ]
  },
  {
   "cell_type": "markdown",
   "id": "52aab8dc-7e60-48a6-8148-8b77ff890584",
   "metadata": {},
   "source": [
    "## Gaussian Naive Bayes"
   ]
  },
  {
   "cell_type": "markdown",
   "id": "69adf712-f19c-4854-8ea1-a053614153a1",
   "metadata": {},
   "source": [
    "A Naive Bayes classifier is a probabilistic machine learning model based on Bayes' theorem, which is used for classification tasks. It's called \"naive\" because it makes the strong assumption that the features in the dataset are conditionally independent, given the class label. Despite this simplification, Naive Bayes classifiers often perform well in practice and are particularly suited for text classification, spam filtering, and other problems with large feature spaces and relatively simple relationships between features and classes.\n",
    "\n",
    "Bayes' theorem relates the conditional probabilities of the features and the class labels, and it's formulated as:\n",
    "\n",
    "$P(y | X) = P(X | y) * P(y) / P(X)$\n",
    "\n",
    "where:\n",
    "\n",
    "P(y | X) is the **posterior probability** of the class label y, given the feature vector X.\n",
    "\n",
    "P(X | y) is the **likelihood**, which is the probability of the feature vector X, given the class label y.\n",
    "\n",
    "P(y) is the **prior probability** of the class label y, which represents the overall frequency of each class in the dataset.\n",
    "\n",
    "P(X) is the evidence, which is the probability of the feature vector X. *Because it's constant for all classes, it's usually ignored in the classification step.*\n",
    "\n",
    "To make a prediction, the Naive Bayes classifier calculates the posterior probability for each class using the likelihood, the prior probabilities, and the feature values, `X`, in the input feature vector. The class with the highest posterior probability is chosen as the predicted class."
   ]
  },
  {
   "cell_type": "markdown",
   "id": "f0e1842f-aa89-4ff4-8d41-21730cdd1108",
   "metadata": {},
   "source": [
    "A Gaussian Naive Bayes classifier is a variant of the Naive Bayes classifier, specifically designed for continuous-valued features. It is based on Bayes' theorem and assumes that the likelihood of the features, given the class label, follows a Gaussian (normal) distribution. This means that each feature is assumed to be normally distributed within each class.\n",
    "\n",
    "In a Gaussian Naive Bayes classifier, the probability density function of the Gaussian distribution is used to compute the likelihood of a feature value given a class label.\n",
    "\n",
    "Basically, the classifier looks at the 2 (or more) blobs of data, and generates the Gaussian distribution that best fits the data. \n",
    "\n",
    "To make a prediction, the Gaussian Naive Bayes classifier calculates the posterior probability for each class using the Gaussian likelihood, the prior probabilities, and the feature values in the input feature vector. *The class with the highest posterior probability is chosen as the predicted class*.\n",
    "\n",
    "The Gaussian Naive Bayes classifier is particularly suitable for problems with continuous features that exhibit a Gaussian-like distribution within each class. It is commonly used in tasks such as spam filtering, anomaly detection, and other classification problems involving continuous features. \n",
    "\n",
    "Despite the strong assumption of independence between features (in other words, that the data blobs represent uncorrelated data), the Gaussian Naive Bayes classifier often performs well in practice and can provide a good baseline for more complex models."
   ]
  },
  {
   "cell_type": "markdown",
   "id": "d9da793e-f4a7-4656-ba40-518d73898e94",
   "metadata": {},
   "source": [
    "## Classify our PCA-transformed data"
   ]
  },
  {
   "cell_type": "markdown",
   "id": "853f9947-b3f2-4db2-84e4-8da5d0f9be8b",
   "metadata": {},
   "source": [
    "First, we'll split our new PCA transformed data in to training and testing sets (as always)."
   ]
  },
  {
   "cell_type": "markdown",
   "id": "afa3b360-6b18-4ace-b6ae-819bf191d233",
   "metadata": {
    "tags": []
   },
   "source": [
    "---"
   ]
  },
  {
   "cell_type": "markdown",
   "id": "a9a3f6a5-3eba-431d-a609-fec5929d0cbd",
   "metadata": {},
   "source": [
    "In the cell below, re-import the `train_test_split` method from `sklearn.model_selection` just to be sure the code below is stand-alone."
   ]
  },
  {
   "cell_type": "code",
   "execution_count": 39,
   "id": "35eaff39-6420-4f17-a95e-afe6bd001787",
   "metadata": {
    "tags": []
   },
   "outputs": [],
   "source": [
    "from sklearn.model_selection import train_test_split"
   ]
  },
  {
   "cell_type": "markdown",
   "id": "310bfa24-4a97-4708-8b18-7062c7f636c5",
   "metadata": {},
   "source": [
    "Now split the data into training and test sets. *Make sure to use the `X_pca` data, not the original data!* Use a `test_size = 0.3`."
   ]
  },
  {
   "cell_type": "code",
   "execution_count": 46,
   "id": "69f4c776-5086-4322-bbb4-bffa1289c7ce",
   "metadata": {},
   "outputs": [],
   "source": [
    "# Split the PCA-transformed data into \n",
    "# training and testing sets (70% training, 30% testing)\n",
    "# set random_state to 42 so we all get the same thing\n",
    "X1_train, X1_test, y1_train, y1_test = train_test_split(X1, y1, \n",
    "                                test_size=0.3, random_state=42)\n"
   ]
  },
  {
   "cell_type": "markdown",
   "id": "a630be96-944e-4219-932e-7896466ccb13",
   "metadata": {
    "tags": []
   },
   "source": [
    "---"
   ]
  },
  {
   "cell_type": "markdown",
   "id": "937a733d-c0ea-4b94-a526-fe8e7b4772be",
   "metadata": {},
   "source": [
    "Now we'll grab the Gaussian naive Bayes classifier. "
   ]
  },
  {
   "cell_type": "code",
   "execution_count": 47,
   "id": "cf11efec-2b78-4283-a2e9-b1aaf8eb92b8",
   "metadata": {},
   "outputs": [],
   "source": [
    "from sklearn.naive_bayes import GaussianNB"
   ]
  },
  {
   "cell_type": "markdown",
   "id": "eea5760b-480c-4de7-818e-9ec043096a06",
   "metadata": {},
   "source": [
    "Once we create our classifier, it will behave just like all the others we have used."
   ]
  },
  {
   "cell_type": "code",
   "execution_count": 48,
   "id": "08aba47e-d5a3-4ede-b00a-818dbbd6fcbd",
   "metadata": {},
   "outputs": [],
   "source": [
    "# Create a Naive Bayes classifier\n",
    "gnb = GaussianNB()"
   ]
  },
  {
   "cell_type": "markdown",
   "id": "6bfe7580-3c75-4e9a-9511-50f71ce0a0e2",
   "metadata": {},
   "source": [
    "We have now given birth to a classifier. We can train it using the `fit()` method, and then classify our test data using the `predict()` method, just as we have done before."
   ]
  },
  {
   "cell_type": "markdown",
   "id": "f118d01a-b6ca-4930-ad08-46e9d4636415",
   "metadata": {
    "tags": []
   },
   "source": [
    "---"
   ]
  },
  {
   "cell_type": "markdown",
   "id": "ac2d798c-e0cf-4024-a969-835c948f50a1",
   "metadata": {},
   "source": [
    "In the cell below, train our classifier using its `fit()` method using the training data."
   ]
  },
  {
   "cell_type": "code",
   "execution_count": 49,
   "id": "9977d3bb-5a25-4ee8-87cf-117c2521ecdd",
   "metadata": {},
   "outputs": [
    {
     "data": {
      "text/plain": [
       "GaussianNB()"
      ]
     },
     "execution_count": 49,
     "metadata": {},
     "output_type": "execute_result"
    }
   ],
   "source": [
    "# and train it on the PCA-transformed training data\n",
    "gnb.fit(X1_train, y1_train)"
   ]
  },
  {
   "cell_type": "markdown",
   "id": "fe2ce517-f025-4e40-a448-babf21755c5f",
   "metadata": {
    "tags": []
   },
   "source": [
    "---"
   ]
  },
  {
   "cell_type": "markdown",
   "id": "d70beb73-17d2-462c-9eef-d01681e46fa6",
   "metadata": {},
   "source": [
    "Now generate the predicted categories (targets) using the `predict()` method. Make sure and use the held-back `X_test` data!"
   ]
  },
  {
   "cell_type": "code",
   "execution_count": 50,
   "id": "901045c2-06f6-4a2d-b18a-9c01a29f3747",
   "metadata": {},
   "outputs": [],
   "source": [
    "# Make predictions on the PCA-transformed testing data\n",
    "y1_pred = gnb.predict(X1_test)"
   ]
  },
  {
   "cell_type": "markdown",
   "id": "fbb4ce04-4754-4b39-927b-394e65f2663c",
   "metadata": {},
   "source": [
    "---"
   ]
  },
  {
   "cell_type": "markdown",
   "id": "95efcf08-f02b-495b-8323-44edbdde892a",
   "metadata": {},
   "source": [
    "Now we'll make a scatter plot of the data with mistakes as open symbols. Don't worry too much about the specific code, but you might want to keep handy for future plotting."
   ]
  },
  {
   "cell_type": "code",
   "execution_count": 51,
   "id": "20299aee-60cb-494e-b2c9-76fc01a19a3f",
   "metadata": {},
   "outputs": [
    {
     "data": {
      "image/png": "[encoded data removed]",
      "text/plain": [
       "<Figure size 432x288 with 1 Axes>"
      ]
     },
     "metadata": {
      "needs_background": "light"
     },
     "output_type": "display_data"
    }
   ],
   "source": [
    "# Scatter plot of the classified test data with mistakes as open symbols\n",
    "colors = ['red', 'green', 'blue']\n",
    "species = iris.target_names\n",
    "markers = ['o', 's', 'D']  # Different marker shapes for each class\n",
    "labels = ['Correct', 'Misclassified']\n",
    "\n",
    "# Plot the correctly classified points as filled symbols\n",
    "for i, color, target_name, marker in zip(range(3), colors, species, markers):\n",
    "    plt.scatter(X1_test[(y1_test == y1_pred) & (y1_test == i), 0], \n",
    "                X1_test[(y1_test == y1_pred) & (y1_test == i), 1], \n",
    "                color=color, marker=marker, \n",
    "                label=target_name if i == 0 else None)\n",
    "\n",
    "# Plot the misclassified points as open symbols\n",
    "for i, color, marker in zip(range(3), colors, markers):\n",
    "    plt.scatter(X1_test[(y1_test != y1_pred) & (y1_test == i), 0],\n",
    "                X1_test[(y1_test != y1_pred) & (y1_test == i), 1], \n",
    "                color=color, marker=marker, facecolors='none', \n",
    "                linewidths=1.5, edgecolors=color, \n",
    "                label=labels[1] if i == 0 else None)\n",
    "\n",
    "plt.xlabel(\"First Principal Component\")\n",
    "plt.ylabel(\"Second Principal Component\")\n",
    "plt.legend(loc=\"best\")\n",
    "plt.title(\"Classified Test Data: Correct vs. Misclassified\")\n",
    "plt.show()"
   ]
  },
  {
   "cell_type": "markdown",
   "id": "84e4c537-df88-463f-aa7d-80421009cf78",
   "metadata": {},
   "source": [
    "Looks like we did pretty well!"
   ]
  },
  {
   "cell_type": "markdown",
   "id": "df58340d-e8f3-42ca-a393-c20b31c277b0",
   "metadata": {},
   "source": [
    "Finally, let's compute the standard diagnostics for our classification.\n",
    "\n",
    "First, we'll import the methods from `sklearn.metrics`"
   ]
  },
  {
   "cell_type": "code",
   "execution_count": 52,
   "id": "cf4e1c24-7f5e-4bcf-9d0c-1fe5176b3402",
   "metadata": {},
   "outputs": [],
   "source": [
    "from sklearn.metrics import classification_report\n",
    "from sklearn.metrics import confusion_matrix\n",
    "from sklearn.metrics import accuracy_score"
   ]
  },
  {
   "cell_type": "markdown",
   "id": "04bcb2f2-f57a-4867-aa68-6edc5c07b301",
   "metadata": {},
   "source": [
    "---"
   ]
  },
  {
   "cell_type": "markdown",
   "id": "912cef5f-1dcb-42bf-af23-822cf8ae3fcc",
   "metadata": {},
   "source": [
    "Now, in the cells below, compute the accuracy score, classification report, and confusion matrix."
   ]
  },
  {
   "cell_type": "code",
   "execution_count": null,
   "id": "7b0b0e4e-5868-4810-a660-87c81b901ceb",
   "metadata": {},
   "outputs": [],
   "source": [
    "# Calculate and print the accuracy\n"
   ]
  },
  {
   "cell_type": "code",
   "execution_count": null,
   "id": "c0d3a43b-95bc-4d8a-a7b1-bdafe61036d1",
   "metadata": {},
   "outputs": [],
   "source": [
    "# Calculate and print the confution matrix\n"
   ]
  },
  {
   "cell_type": "code",
   "execution_count": null,
   "id": "3d520002-299e-48a1-9b20-ebe7d5208b75",
   "metadata": {},
   "outputs": [],
   "source": [
    "# Calculate and print the classification report\n"
   ]
  },
  {
   "cell_type": "code",
   "execution_count": 53,
   "id": "b9fb4329-1db9-440e-a746-2a1fd610b9ea",
   "metadata": {},
   "outputs": [
    {
     "name": "stdout",
     "output_type": "stream",
     "text": [
      "0.9777777777777777  | | | [[19  0  0]\n",
      " [ 0 12  1]\n",
      " [ 0  0 13]]  | | |\n",
      "              precision    recall  f1-score   support\n",
      "\n",
      "           0       1.00      1.00      1.00        19\n",
      "           1       1.00      0.92      0.96        13\n",
      "           2       0.93      1.00      0.96        13\n",
      "\n",
      "    accuracy                           0.98        45\n",
      "   macro avg       0.98      0.97      0.97        45\n",
      "weighted avg       0.98      0.98      0.98        45\n",
      "\n"
     ]
    }
   ],
   "source": [
    "acc_score1 = accuracy_score(y1_test, y1_pred)\n",
    "conf_matrix1 = confusion_matrix(y1_test, y1_pred)\n",
    "cls_report1 = classification_report(y1_test, y1_pred)\n",
    "print(acc_score1, \" | | |\", conf_matrix1, \" | | |\")\n",
    "print(cls_report1)"
   ]
  },
  {
   "cell_type": "markdown",
   "id": "6382a6df-a7d5-4565-976c-63b3fa0d83f8",
   "metadata": {},
   "source": [
    "---"
   ]
  },
  {
   "cell_type": "markdown",
   "id": "3755dfda-45c4-46a6-852b-7e61ceaec43f",
   "metadata": {},
   "source": [
    "And we're done!"
   ]
  }
 ],
 "metadata": {
  "kernelspec": {
   "display_name": "Python 3 (ipykernel)",
   "language": "python",
   "name": "python3"
  },
  "language_info": {
   "codemirror_mode": {
    "name": "ipython",
    "version": 3
   },
   "file_extension": ".py",
   "mimetype": "text/x-python",
   "name": "python",
   "nbconvert_exporter": "python",
   "pygments_lexer": "ipython3",
   "version": "3.9.12"
  }
 },
 "nbformat": 4,
 "nbformat_minor": 5
}
