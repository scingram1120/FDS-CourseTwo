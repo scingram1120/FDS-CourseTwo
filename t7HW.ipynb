{
 "cells": [
  {
   "cell_type": "markdown",
   "id": "1f1534b9",
   "metadata": {},
   "source": [
    "# Numpy review homework"
   ]
  },
  {
   "cell_type": "markdown",
   "id": "4db19bcf",
   "metadata": {},
   "source": [
    "1. Make a numpy matrix from a Python list of lists..."
   ]
  },
  {
   "cell_type": "code",
   "execution_count": 5,
   "id": "6b140a06",
   "metadata": {},
   "outputs": [
    {
     "data": {
      "text/plain": [
       "array([[[1, 2, 3],\n",
       "        [0, 5, 4],\n",
       "        [5, 4, 6]],\n",
       "\n",
       "       [[1, 2, 3],\n",
       "        [0, 5, 4],\n",
       "        [5, 4, 6]]])"
      ]
     },
     "execution_count": 5,
     "metadata": {},
     "output_type": "execute_result"
    }
   ],
   "source": [
    "import numpy as n\n",
    "lst = [[1,2,3], [\"This\", \"is\", \"the 2nd\", \"list\"], [5,4,6]]\n",
    "lt = [ [[1,2,3], [0,5,4], [5,4,6]], [[1,2,3], [0,5,4], [5,4,6]] ]\n",
    "\n",
    "mtrix = n.array(lt)\n",
    "mtrix\n",
    "#type(mtrix)"
   ]
  },
  {
   "cell_type": "markdown",
   "id": "dd6e8ffb",
   "metadata": {},
   "source": [
    "2. Make a 3D numpy matrix from a Python list of lists of lists!"
   ]
  },
  {
   "cell_type": "code",
   "execution_count": 6,
   "id": "c977766b",
   "metadata": {},
   "outputs": [
    {
     "data": {
      "text/plain": [
       "(2, 3, 3)"
      ]
     },
     "execution_count": 6,
     "metadata": {},
     "output_type": "execute_result"
    }
   ],
   "source": [
    "mtrix.T\n",
    "mtrix.shape\n"
   ]
  },
  {
   "cell_type": "markdown",
   "id": "8ad64691",
   "metadata": {},
   "source": [
    "3. Create a 5x3 array of Gaussian random numbers. "
   ]
  },
  {
   "cell_type": "code",
   "execution_count": 12,
   "id": "fa150366",
   "metadata": {},
   "outputs": [
    {
     "data": {
      "text/plain": [
       "array([[3.06590477, 2.95526004, 2.7584159 ],\n",
       "       [2.9255985 , 3.04518473, 2.80751291],\n",
       "       [3.404142  , 2.94738059, 2.96826037],\n",
       "       [3.14543098, 3.46943094, 3.42475766],\n",
       "       [2.65955344, 3.03434833, 3.01619395]])"
      ]
     },
     "execution_count": 12,
     "metadata": {},
     "output_type": "execute_result"
    }
   ],
   "source": [
    "##explain\n",
    "noise = 3+n.random.randn(5,3)*.25\n",
    "noise"
   ]
  },
  {
   "cell_type": "code",
   "execution_count": 13,
   "id": "5f280edc",
   "metadata": {},
   "outputs": [
    {
     "name": "stdout",
     "output_type": "stream",
     "text": [
      "3.065904766609514\n",
      "2.955260036315778\n",
      "2.758415901857716\n",
      "2.9255984975398177\n",
      "3.0451847260828746\n",
      "2.8075129112308845\n",
      "3.404141995235628\n",
      "2.9473805941822118\n",
      "2.968260370530747\n",
      "3.1454309840403285\n",
      "3.4694309354660113\n",
      "3.424757659886611\n",
      "2.659553435573416\n",
      "3.0343483271554454\n",
      "3.016193949495592\n"
     ]
    }
   ],
   "source": []
  },
  {
   "cell_type": "markdown",
   "id": "d129639e",
   "metadata": {},
   "source": [
    "4. Write a script to go through the array created in 3. and announce (print) the value and its row and column indexes.\n",
    "\n",
    "Hint: Use nested `for` loops - one to loop through the rows and one to loop through the columns."
   ]
  },
  {
   "cell_type": "code",
   "execution_count": 14,
   "id": "e9f6fe03",
   "metadata": {},
   "outputs": [
    {
     "name": "stdout",
     "output_type": "stream",
     "text": [
      "3.065904766609514\n",
      "2.955260036315778\n",
      "2.758415901857716\n",
      "2.9255984975398177\n",
      "3.0451847260828746\n",
      "2.8075129112308845\n",
      "3.404141995235628\n",
      "2.9473805941822118\n",
      "2.968260370530747\n",
      "3.1454309840403285\n",
      "3.4694309354660113\n",
      "3.424757659886611\n",
      "2.659553435573416\n",
      "3.0343483271554454\n",
      "3.016193949495592\n"
     ]
    }
   ],
   "source": [
    "for i in range(noise.shape[0]) :\n",
    "    for j in range(noise.shape[1]):\n",
    "        print(noise[i,j])\n",
    "###explain"
   ]
  },
  {
   "cell_type": "markdown",
   "id": "2f6c8094",
   "metadata": {},
   "source": [
    "5. Make an new array out of your random numbers such that the mean is 10 and the standard deviation is 3."
   ]
  },
  {
   "cell_type": "code",
   "execution_count": null,
   "id": "b8cfc374",
   "metadata": {},
   "outputs": [],
   "source": [
    "matrix = n.random.normal(10, 3)\n",
    "matrix"
   ]
  },
  {
   "cell_type": "markdown",
   "id": "431e4556",
   "metadata": {},
   "source": [
    "6. Count the number of values in your new array that are below 7."
   ]
  },
  {
   "cell_type": "code",
   "execution_count": null,
   "id": "80cb12c5",
   "metadata": {},
   "outputs": [],
   "source": []
  },
  {
   "cell_type": "markdown",
   "id": "f7191a90",
   "metadata": {},
   "source": [
    "7. Make a numpy sequence that has the even numbers from 2 up to (and including) 20."
   ]
  },
  {
   "cell_type": "code",
   "execution_count": null,
   "id": "23277d0c",
   "metadata": {},
   "outputs": [],
   "source": [
    "int_noise = n.random.randint(2,20,20)\n",
    "int_noise"
   ]
  },
  {
   "cell_type": "markdown",
   "id": "40bd499e",
   "metadata": {},
   "source": [
    "8. Get the second and third rows of your array."
   ]
  },
  {
   "cell_type": "code",
   "execution_count": null,
   "id": "1abb0c7b",
   "metadata": {},
   "outputs": [],
   "source": []
  },
  {
   "cell_type": "markdown",
   "id": "1c3779c3",
   "metadata": {},
   "source": [
    "9. Compute the mean of the columns of your array."
   ]
  },
  {
   "cell_type": "code",
   "execution_count": null,
   "id": "4e166283",
   "metadata": {},
   "outputs": [],
   "source": []
  }
 ],
 "metadata": {
  "kernelspec": {
   "display_name": "Python 3 (ipykernel)",
   "language": "python",
   "name": "python3"
  },
  "language_info": {
   "codemirror_mode": {
    "name": "ipython",
    "version": 3
   },
   "file_extension": ".py",
   "mimetype": "text/x-python",
   "name": "python",
   "nbconvert_exporter": "python",
   "pygments_lexer": "ipython3",
   "version": "3.9.12"
  }
 },
 "nbformat": 4,
 "nbformat_minor": 5
}
