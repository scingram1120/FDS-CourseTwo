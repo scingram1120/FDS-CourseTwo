{
 "cells": [
  {
   "cell_type": "markdown",
   "id": "7b0422f1",
   "metadata": {},
   "source": [
    "# Pandas Review"
   ]
  },
  {
   "cell_type": "markdown",
   "id": "d0a98ec5",
   "metadata": {},
   "source": [
    "Pandas is a Python package for organizing and analyzing data. In one sense, it is a generalization of NumPy, on which it is based.\n",
    "\n",
    "NumPy is fantastic for working with numerical data that are \"well behaved\". For example, if you are analyzing data from a tightly controlled laboratory experiment, then NumPy might be perfect.\n",
    "\n",
    "In the broader world of behavioral data science, however, data can be complicated. Variables can be of multiple types, values can be missing, etc. Pandas was developed to make it easier for us to work with data sets in general, not just numerical arrays.\n",
    "\n",
    "If you have experience in R then, in a nutshell, pandas gives you an equivalent to R in Python (some data scientists use both, picking one or the other depending on the project, but most people prefer sticking with one language if they can)."
   ]
  },
  {
   "cell_type": "markdown",
   "id": "6bccb802",
   "metadata": {},
   "source": [
    "## Pandas Data"
   ]
  },
  {
   "cell_type": "markdown",
   "id": "71270a9a",
   "metadata": {},
   "source": [
    "The main data object in pandas is the `DataFrame`. It is a table of data in which each column has a name, generally corresponding to a specific real-world variable. \n",
    "\n",
    "Just as we can think about a NumPy array as a spatial layout of a Python list of lists, we can think of a pandas `DataFrame` as a spatial layout of a Python dictionary."
   ]
  },
  {
   "cell_type": "markdown",
   "id": "3bc773bf",
   "metadata": {},
   "source": [
    "Consider the following Python dictionary:"
   ]
  },
  {
   "cell_type": "code",
   "execution_count": 1,
   "id": "5b72e1dc",
   "metadata": {},
   "outputs": [],
   "source": [
    "dis_chars = {'name': ['Mickey', 'Minnie', 'Pluto'],\n",
    "             'gender': ['m', 'f', 'n'],\n",
    "             'age': [95, 95, 93],}"
   ]
  },
  {
   "cell_type": "code",
   "execution_count": 2,
   "id": "aeed125f",
   "metadata": {},
   "outputs": [
    {
     "data": {
      "text/plain": [
       "{'name': ['Mickey', 'Minnie', 'Pluto'],\n",
       " 'gender': ['m', 'f', 'n'],\n",
       " 'age': [95, 95, 93]}"
      ]
     },
     "execution_count": 2,
     "metadata": {},
     "output_type": "execute_result"
    }
   ],
   "source": [
    "dis_chars"
   ]
  },
  {
   "cell_type": "markdown",
   "id": "c3a8d4a6",
   "metadata": {},
   "source": [
    "On the one hand, this is a nice organized *container* of data. But on the other hand, it is not much else. If we wanted to compute anything, like the mean age of all non-male characters, we'd have to start writing code from scratch."
   ]
  },
  {
   "cell_type": "markdown",
   "id": "f9bcc96f",
   "metadata": {},
   "source": [
    "Let's make our dictionary into a `DataFrame`. First, we'll import pandas."
   ]
  },
  {
   "cell_type": "code",
   "execution_count": 3,
   "id": "7146da5d",
   "metadata": {},
   "outputs": [],
   "source": [
    "import pandas as pd"
   ]
  },
  {
   "cell_type": "markdown",
   "id": "e33362f5",
   "metadata": {},
   "source": [
    "Importing pandas as `pd` is conventional, like importing numpy as `np`, so there's no reason to do anything else.\n",
    "\n",
    "Now we can convert our data to a `DataFrame` using `pd.DataFrame()`."
   ]
  },
  {
   "cell_type": "code",
   "execution_count": 4,
   "id": "f13c5e43",
   "metadata": {},
   "outputs": [],
   "source": [
    "dis_df = pd.DataFrame(dis_chars)"
   ]
  },
  {
   "cell_type": "markdown",
   "id": "7a28abab",
   "metadata": {},
   "source": [
    "And let's look at our new creation!"
   ]
  },
  {
   "cell_type": "code",
   "execution_count": 5,
   "id": "ae80a617",
   "metadata": {},
   "outputs": [
    {
     "data": {
      "text/html": [
       "<div>\n",
       "<style scoped>\n",
       "    .dataframe tbody tr th:only-of-type {\n",
       "        vertical-align: middle;\n",
       "    }\n",
       "\n",
       "    .dataframe tbody tr th {\n",
       "        vertical-align: top;\n",
       "    }\n",
       "\n",
       "    .dataframe thead th {\n",
       "        text-align: right;\n",
       "    }\n",
       "</style>\n",
       "<table border=\"1\" class=\"dataframe\">\n",
       "  <thead>\n",
       "    <tr style=\"text-align: right;\">\n",
       "      <th></th>\n",
       "      <th>name</th>\n",
       "      <th>gender</th>\n",
       "      <th>age</th>\n",
       "    </tr>\n",
       "  </thead>\n",
       "  <tbody>\n",
       "    <tr>\n",
       "      <th>0</th>\n",
       "      <td>Mickey</td>\n",
       "      <td>m</td>\n",
       "      <td>95</td>\n",
       "    </tr>\n",
       "    <tr>\n",
       "      <th>1</th>\n",
       "      <td>Minnie</td>\n",
       "      <td>f</td>\n",
       "      <td>95</td>\n",
       "    </tr>\n",
       "    <tr>\n",
       "      <th>2</th>\n",
       "      <td>Pluto</td>\n",
       "      <td>n</td>\n",
       "      <td>93</td>\n",
       "    </tr>\n",
       "  </tbody>\n",
       "</table>\n",
       "</div>"
      ],
      "text/plain": [
       "     name gender  age\n",
       "0  Mickey      m   95\n",
       "1  Minnie      f   95\n",
       "2   Pluto      n   93"
      ]
     },
     "execution_count": 5,
     "metadata": {},
     "output_type": "execute_result"
    }
   ],
   "source": [
    "dis_df"
   ]
  },
  {
   "cell_type": "markdown",
   "id": "e55fb901",
   "metadata": {},
   "source": [
    "Now we have a nice organized table of data, in which each column corresponds to a variable, and can be referred to by name. "
   ]
  },
  {
   "cell_type": "code",
   "execution_count": 6,
   "id": "7ea96861",
   "metadata": {},
   "outputs": [
    {
     "data": {
      "text/plain": [
       "0    Mickey\n",
       "1    Minnie\n",
       "2     Pluto\n",
       "Name: name, dtype: object"
      ]
     },
     "execution_count": 6,
     "metadata": {},
     "output_type": "execute_result"
    }
   ],
   "source": [
    "dis_df['name']"
   ]
  },
  {
   "cell_type": "markdown",
   "id": "0df63406",
   "metadata": {},
   "source": [
    "Further, it makes it relatively easy for us to do lots of analyses \"out of the box\". For example:"
   ]
  },
  {
   "cell_type": "code",
   "execution_count": 7,
   "id": "066f7a90",
   "metadata": {},
   "outputs": [
    {
     "data": {
      "text/plain": [
       "94.33333333333333"
      ]
     },
     "execution_count": 7,
     "metadata": {},
     "output_type": "execute_result"
    }
   ],
   "source": [
    "dis_df['age'].mean()"
   ]
  },
  {
   "cell_type": "markdown",
   "id": "40fc5f2a",
   "metadata": {},
   "source": [
    "Here, we just grabbed a column of data by name (`dis_df['age']`), and then computed its mean with the built-in `mean()` method."
   ]
  },
  {
   "cell_type": "markdown",
   "id": "eef166a0",
   "metadata": {},
   "source": [
    "The `DataFrame` isn't the only type of object in pandas, but it's the biggie. If you have experience in R, then you'll be in familiar territory, because the `DataFrame` in Python is modeled after the data frame (or tibble) in R."
   ]
  },
  {
   "cell_type": "code",
   "execution_count": 8,
   "id": "556f37b0",
   "metadata": {},
   "outputs": [
    {
     "data": {
      "text/plain": [
       "pandas.core.frame.DataFrame"
      ]
     },
     "execution_count": 8,
     "metadata": {},
     "output_type": "execute_result"
    }
   ],
   "source": [
    "type(dis_df)"
   ]
  },
  {
   "cell_type": "markdown",
   "id": "7005bade",
   "metadata": {},
   "source": [
    "Each column of a `DataFrame` is a pandas `Series`."
   ]
  },
  {
   "cell_type": "code",
   "execution_count": 9,
   "id": "933dccd1",
   "metadata": {},
   "outputs": [
    {
     "data": {
      "text/plain": [
       "0    95\n",
       "1    95\n",
       "2    93\n",
       "Name: age, dtype: int64"
      ]
     },
     "execution_count": 9,
     "metadata": {},
     "output_type": "execute_result"
    }
   ],
   "source": [
    "dis_age_s = dis_df['age']\n",
    "dis_age_s"
   ]
  },
  {
   "cell_type": "code",
   "execution_count": 10,
   "id": "fac5acf7",
   "metadata": {},
   "outputs": [
    {
     "data": {
      "text/plain": [
       "pandas.core.series.Series"
      ]
     },
     "execution_count": 10,
     "metadata": {},
     "output_type": "execute_result"
    }
   ],
   "source": [
    "type(dis_age_s)"
   ]
  },
  {
   "cell_type": "markdown",
   "id": "bb3b7b53",
   "metadata": {},
   "source": [
    "And each series is a collection of more fundamental objects. So if we look at the last age in our series..."
   ]
  },
  {
   "cell_type": "code",
   "execution_count": 11,
   "id": "b643b133",
   "metadata": {},
   "outputs": [
    {
     "data": {
      "text/plain": [
       "93"
      ]
     },
     "execution_count": 11,
     "metadata": {},
     "output_type": "execute_result"
    }
   ],
   "source": [
    "a = dis_age_s[2]\n",
    "a"
   ]
  },
  {
   "cell_type": "markdown",
   "id": "e75b2a3b",
   "metadata": {},
   "source": [
    "And check the type..."
   ]
  },
  {
   "cell_type": "code",
   "execution_count": 12,
   "id": "69f62997",
   "metadata": {},
   "outputs": [
    {
     "data": {
      "text/plain": [
       "numpy.int64"
      ]
     },
     "execution_count": 12,
     "metadata": {},
     "output_type": "execute_result"
    }
   ],
   "source": [
    "type(a)"
   ]
  },
  {
   "cell_type": "markdown",
   "id": "8ec911a5",
   "metadata": {},
   "source": [
    "We see that it is a numpy integer; a hint that pandas is indeed built from NumPy!"
   ]
  },
  {
   "cell_type": "markdown",
   "id": "14361b0f",
   "metadata": {},
   "source": [
    "If we check the type of one of the other values:"
   ]
  },
  {
   "cell_type": "code",
   "execution_count": 13,
   "id": "d9693706",
   "metadata": {},
   "outputs": [
    {
     "data": {
      "text/plain": [
       "str"
      ]
     },
     "execution_count": 13,
     "metadata": {},
     "output_type": "execute_result"
    }
   ],
   "source": [
    "type(dis_df['gender'][2])"
   ]
  },
  {
   "cell_type": "markdown",
   "id": "268a5659",
   "metadata": {},
   "source": [
    "We see that it is a Python string object. (Take a moment to dissect that line of code, and see how it is doing exactly the same thing as we did to get the type of an age value, just in one go.)"
   ]
  },
  {
   "cell_type": "markdown",
   "id": "43aac6b2",
   "metadata": {},
   "source": [
    "---"
   ]
  },
  {
   "cell_type": "markdown",
   "id": "0cc9870d",
   "metadata": {},
   "source": [
    "In the code cell below, get the very first name in our Disney `DataFrame`."
   ]
  },
  {
   "cell_type": "code",
   "execution_count": 15,
   "id": "1f0d3179",
   "metadata": {},
   "outputs": [
    {
     "data": {
      "text/plain": [
       "'Mickey'"
      ]
     },
     "execution_count": 15,
     "metadata": {},
     "output_type": "execute_result"
    }
   ],
   "source": [
    "# At first, Mickey's name was going to be Mortimer Mouse. I know, right?\n",
    "dis_df\n",
    "dis_df['name'][0]"
   ]
  },
  {
   "cell_type": "markdown",
   "id": "f56db8c7",
   "metadata": {},
   "source": [
    "---"
   ]
  },
  {
   "cell_type": "markdown",
   "id": "0d4bca10",
   "metadata": {},
   "source": [
    "One great thing about pandas is that, if we want to add a column, we just act like it already exists and assign values to it. Like this:"
   ]
  },
  {
   "cell_type": "code",
   "execution_count": 16,
   "id": "f1fb29c7",
   "metadata": {},
   "outputs": [
    {
     "data": {
      "text/html": [
       "<div>\n",
       "<style scoped>\n",
       "    .dataframe tbody tr th:only-of-type {\n",
       "        vertical-align: middle;\n",
       "    }\n",
       "\n",
       "    .dataframe tbody tr th {\n",
       "        vertical-align: top;\n",
       "    }\n",
       "\n",
       "    .dataframe thead th {\n",
       "        text-align: right;\n",
       "    }\n",
       "</style>\n",
       "<table border=\"1\" class=\"dataframe\">\n",
       "  <thead>\n",
       "    <tr style=\"text-align: right;\">\n",
       "      <th></th>\n",
       "      <th>name</th>\n",
       "      <th>gender</th>\n",
       "      <th>age</th>\n",
       "      <th>wearsBow</th>\n",
       "    </tr>\n",
       "  </thead>\n",
       "  <tbody>\n",
       "    <tr>\n",
       "      <th>0</th>\n",
       "      <td>Mickey</td>\n",
       "      <td>m</td>\n",
       "      <td>95</td>\n",
       "      <td>False</td>\n",
       "    </tr>\n",
       "    <tr>\n",
       "      <th>1</th>\n",
       "      <td>Minnie</td>\n",
       "      <td>f</td>\n",
       "      <td>95</td>\n",
       "      <td>True</td>\n",
       "    </tr>\n",
       "    <tr>\n",
       "      <th>2</th>\n",
       "      <td>Pluto</td>\n",
       "      <td>n</td>\n",
       "      <td>93</td>\n",
       "      <td>False</td>\n",
       "    </tr>\n",
       "  </tbody>\n",
       "</table>\n",
       "</div>"
      ],
      "text/plain": [
       "     name gender  age  wearsBow\n",
       "0  Mickey      m   95     False\n",
       "1  Minnie      f   95      True\n",
       "2   Pluto      n   93     False"
      ]
     },
     "execution_count": 16,
     "metadata": {},
     "output_type": "execute_result"
    }
   ],
   "source": [
    "dis_df['wearsBow'] = [False, True, False]\n",
    "dis_df"
   ]
  },
  {
   "cell_type": "markdown",
   "id": "cc7b350c",
   "metadata": {},
   "source": [
    "Notice that we are addressing a 'wearsBow' column just like we would an existing column such as 'name'. Pandas, rather than complain and be annoying, just creates the column for us!"
   ]
  },
  {
   "cell_type": "markdown",
   "id": "3f9bfb5c",
   "metadata": {},
   "source": [
    "## Data i/o (Input and Output)"
   ]
  },
  {
   "cell_type": "markdown",
   "id": "7f2b9f8b",
   "metadata": {},
   "source": [
    "One of the really great things about pandas is that it makes reading, inspecting, and writing data files in common formats very easy. "
   ]
  },
  {
   "cell_type": "markdown",
   "id": "c5966efc",
   "metadata": {},
   "source": [
    "### Importing (input)"
   ]
  },
  {
   "cell_type": "markdown",
   "id": "a994cb18",
   "metadata": {},
   "source": [
    "Following the pandas documentation, let's look at some data about the passengers on the RMS Titanic. \n",
    "\n",
    "Download the titanic.csv and place in folder named 'data' that is in the same folder as you have this notebook.\n",
    "\n",
    "Now, loading it is as easy as calling `pd.read_csv()`:"
   ]
  },
  {
   "cell_type": "code",
   "execution_count": 19,
   "id": "4be4ea88",
   "metadata": {},
   "outputs": [],
   "source": [
    "In [2]: titanic = pd.read_excel(\"Data/titanic.xlsx\")"
   ]
  },
  {
   "cell_type": "markdown",
   "id": "203d33d1",
   "metadata": {},
   "source": [
    "There are lots of other formats that pandas can read, including excel and html. \n",
    "\n",
    "It can even read data from the clipboard! Try it! Go to the [Wikepedia page for Austin](https://en.wikipedia.org/wiki/Austin,_Texas), scroll to the demographics section, and select the three columns (including the headers) down to 2020, and copy them to your clipboard.\n",
    "\n",
    "Now run the code below."
   ]
  },
  {
   "cell_type": "code",
   "execution_count": 20,
   "id": "89ee9f99",
   "metadata": {},
   "outputs": [],
   "source": [
    "atx_pop = pd.read_clipboard()"
   ]
  },
  {
   "cell_type": "code",
   "execution_count": 21,
   "id": "db6f977b",
   "metadata": {},
   "outputs": [
    {
     "data": {
      "text/html": [
       "<div>\n",
       "<style scoped>\n",
       "    .dataframe tbody tr th:only-of-type {\n",
       "        vertical-align: middle;\n",
       "    }\n",
       "\n",
       "    .dataframe tbody tr th {\n",
       "        vertical-align: top;\n",
       "    }\n",
       "\n",
       "    .dataframe thead th {\n",
       "        text-align: right;\n",
       "    }\n",
       "</style>\n",
       "<table border=\"1\" class=\"dataframe\">\n",
       "  <thead>\n",
       "    <tr style=\"text-align: right;\">\n",
       "      <th></th>\n",
       "      <th>Census</th>\n",
       "      <th>Pop.</th>\n",
       "      <th>Note</th>\n",
       "      <th>%±</th>\n",
       "    </tr>\n",
       "  </thead>\n",
       "  <tbody>\n",
       "    <tr>\n",
       "      <th>0</th>\n",
       "      <td>1850</td>\n",
       "      <td>629</td>\n",
       "      <td>NaN</td>\n",
       "      <td>—</td>\n",
       "    </tr>\n",
       "    <tr>\n",
       "      <th>1</th>\n",
       "      <td>1860</td>\n",
       "      <td>3,494</td>\n",
       "      <td>NaN</td>\n",
       "      <td>455.5%</td>\n",
       "    </tr>\n",
       "    <tr>\n",
       "      <th>2</th>\n",
       "      <td>1870</td>\n",
       "      <td>4,428</td>\n",
       "      <td>NaN</td>\n",
       "      <td>26.7%</td>\n",
       "    </tr>\n",
       "    <tr>\n",
       "      <th>3</th>\n",
       "      <td>1880</td>\n",
       "      <td>11,013</td>\n",
       "      <td>NaN</td>\n",
       "      <td>148.7%</td>\n",
       "    </tr>\n",
       "    <tr>\n",
       "      <th>4</th>\n",
       "      <td>1890</td>\n",
       "      <td>14,575</td>\n",
       "      <td>NaN</td>\n",
       "      <td>32.3%</td>\n",
       "    </tr>\n",
       "    <tr>\n",
       "      <th>5</th>\n",
       "      <td>1900</td>\n",
       "      <td>22,258</td>\n",
       "      <td>NaN</td>\n",
       "      <td>52.7%</td>\n",
       "    </tr>\n",
       "    <tr>\n",
       "      <th>6</th>\n",
       "      <td>1910</td>\n",
       "      <td>29,860</td>\n",
       "      <td>NaN</td>\n",
       "      <td>34.2%</td>\n",
       "    </tr>\n",
       "    <tr>\n",
       "      <th>7</th>\n",
       "      <td>1920</td>\n",
       "      <td>34,876</td>\n",
       "      <td>NaN</td>\n",
       "      <td>16.8%</td>\n",
       "    </tr>\n",
       "    <tr>\n",
       "      <th>8</th>\n",
       "      <td>1930</td>\n",
       "      <td>53,120</td>\n",
       "      <td>NaN</td>\n",
       "      <td>52.3%</td>\n",
       "    </tr>\n",
       "    <tr>\n",
       "      <th>9</th>\n",
       "      <td>1940</td>\n",
       "      <td>87,930</td>\n",
       "      <td>NaN</td>\n",
       "      <td>65.5%</td>\n",
       "    </tr>\n",
       "    <tr>\n",
       "      <th>10</th>\n",
       "      <td>1950</td>\n",
       "      <td>132,459</td>\n",
       "      <td>NaN</td>\n",
       "      <td>50.6%</td>\n",
       "    </tr>\n",
       "    <tr>\n",
       "      <th>11</th>\n",
       "      <td>1960</td>\n",
       "      <td>186,545</td>\n",
       "      <td>NaN</td>\n",
       "      <td>40.8%</td>\n",
       "    </tr>\n",
       "    <tr>\n",
       "      <th>12</th>\n",
       "      <td>1970</td>\n",
       "      <td>253,539</td>\n",
       "      <td>NaN</td>\n",
       "      <td>35.9%</td>\n",
       "    </tr>\n",
       "    <tr>\n",
       "      <th>13</th>\n",
       "      <td>1980</td>\n",
       "      <td>345,890</td>\n",
       "      <td>NaN</td>\n",
       "      <td>36.4%</td>\n",
       "    </tr>\n",
       "    <tr>\n",
       "      <th>14</th>\n",
       "      <td>1990</td>\n",
       "      <td>465,622</td>\n",
       "      <td>NaN</td>\n",
       "      <td>34.6%</td>\n",
       "    </tr>\n",
       "    <tr>\n",
       "      <th>15</th>\n",
       "      <td>2000</td>\n",
       "      <td>656,562</td>\n",
       "      <td>NaN</td>\n",
       "      <td>41.0%</td>\n",
       "    </tr>\n",
       "    <tr>\n",
       "      <th>16</th>\n",
       "      <td>2010</td>\n",
       "      <td>790,390</td>\n",
       "      <td>NaN</td>\n",
       "      <td>20.4%</td>\n",
       "    </tr>\n",
       "    <tr>\n",
       "      <th>17</th>\n",
       "      <td>2020</td>\n",
       "      <td>961,855</td>\n",
       "      <td>NaN</td>\n",
       "      <td>21.7%</td>\n",
       "    </tr>\n",
       "    <tr>\n",
       "      <th>18</th>\n",
       "      <td>2021 (est.)</td>\n",
       "      <td>964,177</td>\n",
       "      <td>NaN</td>\n",
       "      <td>0.2%</td>\n",
       "    </tr>\n",
       "  </tbody>\n",
       "</table>\n",
       "</div>"
      ],
      "text/plain": [
       "         Census     Pop.  Note      %±\n",
       "0          1850      629   NaN       —\n",
       "1          1860    3,494   NaN  455.5%\n",
       "2          1870    4,428   NaN   26.7%\n",
       "3          1880   11,013   NaN  148.7%\n",
       "4          1890   14,575   NaN   32.3%\n",
       "5          1900   22,258   NaN   52.7%\n",
       "6          1910   29,860   NaN   34.2%\n",
       "7          1920   34,876   NaN   16.8%\n",
       "8          1930   53,120   NaN   52.3%\n",
       "9          1940   87,930   NaN   65.5%\n",
       "10         1950  132,459   NaN   50.6%\n",
       "11         1960  186,545   NaN   40.8%\n",
       "12         1970  253,539   NaN   35.9%\n",
       "13         1980  345,890   NaN   36.4%\n",
       "14         1990  465,622   NaN   34.6%\n",
       "15         2000  656,562   NaN   41.0%\n",
       "16         2010  790,390   NaN   20.4%\n",
       "17         2020  961,855   NaN   21.7%\n",
       "18  2021 (est.)  964,177   NaN    0.2%"
      ]
     },
     "execution_count": 21,
     "metadata": {},
     "output_type": "execute_result"
    }
   ],
   "source": [
    "atx_pop"
   ]
  },
  {
   "cell_type": "markdown",
   "id": "99b6bb2a",
   "metadata": {},
   "source": [
    "### Inspecting"
   ]
  },
  {
   "cell_type": "markdown",
   "id": "1a20ecb5",
   "metadata": {},
   "source": [
    "It's important to peek at any imported data to make sure nothing looks funny (like we just did with the Austin population data). So let's peek at the RMS Titanic data."
   ]
  },
  {
   "cell_type": "code",
   "execution_count": 22,
   "id": "3aa441d6",
   "metadata": {},
   "outputs": [
    {
     "data": {
      "text/html": [
       "<div>\n",
       "<style scoped>\n",
       "    .dataframe tbody tr th:only-of-type {\n",
       "        vertical-align: middle;\n",
       "    }\n",
       "\n",
       "    .dataframe tbody tr th {\n",
       "        vertical-align: top;\n",
       "    }\n",
       "\n",
       "    .dataframe thead th {\n",
       "        text-align: right;\n",
       "    }\n",
       "</style>\n",
       "<table border=\"1\" class=\"dataframe\">\n",
       "  <thead>\n",
       "    <tr style=\"text-align: right;\">\n",
       "      <th></th>\n",
       "      <th>Unnamed: 0</th>\n",
       "      <th>PassengerId</th>\n",
       "      <th>Survived</th>\n",
       "      <th>Pclass</th>\n",
       "      <th>Name</th>\n",
       "      <th>Sex</th>\n",
       "      <th>Age</th>\n",
       "      <th>SibSp</th>\n",
       "      <th>Parch</th>\n",
       "      <th>Ticket</th>\n",
       "      <th>Fare</th>\n",
       "      <th>Cabin</th>\n",
       "      <th>Embarked</th>\n",
       "    </tr>\n",
       "  </thead>\n",
       "  <tbody>\n",
       "    <tr>\n",
       "      <th>0</th>\n",
       "      <td>0</td>\n",
       "      <td>1</td>\n",
       "      <td>0</td>\n",
       "      <td>3</td>\n",
       "      <td>Braund, Mr. Owen Harris</td>\n",
       "      <td>male</td>\n",
       "      <td>22.0</td>\n",
       "      <td>1</td>\n",
       "      <td>0</td>\n",
       "      <td>A/5 21171</td>\n",
       "      <td>7.2500</td>\n",
       "      <td>NaN</td>\n",
       "      <td>S</td>\n",
       "    </tr>\n",
       "    <tr>\n",
       "      <th>1</th>\n",
       "      <td>1</td>\n",
       "      <td>2</td>\n",
       "      <td>1</td>\n",
       "      <td>1</td>\n",
       "      <td>Cumings, Mrs. John Bradley (Florence Briggs Th...</td>\n",
       "      <td>female</td>\n",
       "      <td>38.0</td>\n",
       "      <td>1</td>\n",
       "      <td>0</td>\n",
       "      <td>PC 17599</td>\n",
       "      <td>71.2833</td>\n",
       "      <td>C85</td>\n",
       "      <td>C</td>\n",
       "    </tr>\n",
       "    <tr>\n",
       "      <th>2</th>\n",
       "      <td>2</td>\n",
       "      <td>3</td>\n",
       "      <td>1</td>\n",
       "      <td>3</td>\n",
       "      <td>Heikkinen, Miss. Laina</td>\n",
       "      <td>female</td>\n",
       "      <td>26.0</td>\n",
       "      <td>0</td>\n",
       "      <td>0</td>\n",
       "      <td>STON/O2. 3101282</td>\n",
       "      <td>7.9250</td>\n",
       "      <td>NaN</td>\n",
       "      <td>S</td>\n",
       "    </tr>\n",
       "    <tr>\n",
       "      <th>3</th>\n",
       "      <td>3</td>\n",
       "      <td>4</td>\n",
       "      <td>1</td>\n",
       "      <td>1</td>\n",
       "      <td>Futrelle, Mrs. Jacques Heath (Lily May Peel)</td>\n",
       "      <td>female</td>\n",
       "      <td>35.0</td>\n",
       "      <td>1</td>\n",
       "      <td>0</td>\n",
       "      <td>113803</td>\n",
       "      <td>53.1000</td>\n",
       "      <td>C123</td>\n",
       "      <td>S</td>\n",
       "    </tr>\n",
       "    <tr>\n",
       "      <th>4</th>\n",
       "      <td>4</td>\n",
       "      <td>5</td>\n",
       "      <td>0</td>\n",
       "      <td>3</td>\n",
       "      <td>Allen, Mr. William Henry</td>\n",
       "      <td>male</td>\n",
       "      <td>35.0</td>\n",
       "      <td>0</td>\n",
       "      <td>0</td>\n",
       "      <td>373450</td>\n",
       "      <td>8.0500</td>\n",
       "      <td>NaN</td>\n",
       "      <td>S</td>\n",
       "    </tr>\n",
       "    <tr>\n",
       "      <th>...</th>\n",
       "      <td>...</td>\n",
       "      <td>...</td>\n",
       "      <td>...</td>\n",
       "      <td>...</td>\n",
       "      <td>...</td>\n",
       "      <td>...</td>\n",
       "      <td>...</td>\n",
       "      <td>...</td>\n",
       "      <td>...</td>\n",
       "      <td>...</td>\n",
       "      <td>...</td>\n",
       "      <td>...</td>\n",
       "      <td>...</td>\n",
       "    </tr>\n",
       "    <tr>\n",
       "      <th>886</th>\n",
       "      <td>886</td>\n",
       "      <td>887</td>\n",
       "      <td>0</td>\n",
       "      <td>2</td>\n",
       "      <td>Montvila, Rev. Juozas</td>\n",
       "      <td>male</td>\n",
       "      <td>27.0</td>\n",
       "      <td>0</td>\n",
       "      <td>0</td>\n",
       "      <td>211536</td>\n",
       "      <td>13.0000</td>\n",
       "      <td>NaN</td>\n",
       "      <td>S</td>\n",
       "    </tr>\n",
       "    <tr>\n",
       "      <th>887</th>\n",
       "      <td>887</td>\n",
       "      <td>888</td>\n",
       "      <td>1</td>\n",
       "      <td>1</td>\n",
       "      <td>Graham, Miss. Margaret Edith</td>\n",
       "      <td>female</td>\n",
       "      <td>19.0</td>\n",
       "      <td>0</td>\n",
       "      <td>0</td>\n",
       "      <td>112053</td>\n",
       "      <td>30.0000</td>\n",
       "      <td>B42</td>\n",
       "      <td>S</td>\n",
       "    </tr>\n",
       "    <tr>\n",
       "      <th>888</th>\n",
       "      <td>888</td>\n",
       "      <td>889</td>\n",
       "      <td>0</td>\n",
       "      <td>3</td>\n",
       "      <td>Johnston, Miss. Catherine Helen \"Carrie\"</td>\n",
       "      <td>female</td>\n",
       "      <td>NaN</td>\n",
       "      <td>1</td>\n",
       "      <td>2</td>\n",
       "      <td>W./C. 6607</td>\n",
       "      <td>23.4500</td>\n",
       "      <td>NaN</td>\n",
       "      <td>S</td>\n",
       "    </tr>\n",
       "    <tr>\n",
       "      <th>889</th>\n",
       "      <td>889</td>\n",
       "      <td>890</td>\n",
       "      <td>1</td>\n",
       "      <td>1</td>\n",
       "      <td>Behr, Mr. Karl Howell</td>\n",
       "      <td>male</td>\n",
       "      <td>26.0</td>\n",
       "      <td>0</td>\n",
       "      <td>0</td>\n",
       "      <td>111369</td>\n",
       "      <td>30.0000</td>\n",
       "      <td>C148</td>\n",
       "      <td>C</td>\n",
       "    </tr>\n",
       "    <tr>\n",
       "      <th>890</th>\n",
       "      <td>890</td>\n",
       "      <td>891</td>\n",
       "      <td>0</td>\n",
       "      <td>3</td>\n",
       "      <td>Dooley, Mr. Patrick</td>\n",
       "      <td>male</td>\n",
       "      <td>32.0</td>\n",
       "      <td>0</td>\n",
       "      <td>0</td>\n",
       "      <td>370376</td>\n",
       "      <td>7.7500</td>\n",
       "      <td>NaN</td>\n",
       "      <td>Q</td>\n",
       "    </tr>\n",
       "  </tbody>\n",
       "</table>\n",
       "<p>891 rows × 13 columns</p>\n",
       "</div>"
      ],
      "text/plain": [
       "     Unnamed: 0  PassengerId  Survived  Pclass  \\\n",
       "0             0            1         0       3   \n",
       "1             1            2         1       1   \n",
       "2             2            3         1       3   \n",
       "3             3            4         1       1   \n",
       "4             4            5         0       3   \n",
       "..          ...          ...       ...     ...   \n",
       "886         886          887         0       2   \n",
       "887         887          888         1       1   \n",
       "888         888          889         0       3   \n",
       "889         889          890         1       1   \n",
       "890         890          891         0       3   \n",
       "\n",
       "                                                  Name     Sex   Age  SibSp  \\\n",
       "0                              Braund, Mr. Owen Harris    male  22.0      1   \n",
       "1    Cumings, Mrs. John Bradley (Florence Briggs Th...  female  38.0      1   \n",
       "2                               Heikkinen, Miss. Laina  female  26.0      0   \n",
       "3         Futrelle, Mrs. Jacques Heath (Lily May Peel)  female  35.0      1   \n",
       "4                             Allen, Mr. William Henry    male  35.0      0   \n",
       "..                                                 ...     ...   ...    ...   \n",
       "886                              Montvila, Rev. Juozas    male  27.0      0   \n",
       "887                       Graham, Miss. Margaret Edith  female  19.0      0   \n",
       "888           Johnston, Miss. Catherine Helen \"Carrie\"  female   NaN      1   \n",
       "889                              Behr, Mr. Karl Howell    male  26.0      0   \n",
       "890                                Dooley, Mr. Patrick    male  32.0      0   \n",
       "\n",
       "     Parch            Ticket     Fare Cabin Embarked  \n",
       "0        0         A/5 21171   7.2500   NaN        S  \n",
       "1        0          PC 17599  71.2833   C85        C  \n",
       "2        0  STON/O2. 3101282   7.9250   NaN        S  \n",
       "3        0            113803  53.1000  C123        S  \n",
       "4        0            373450   8.0500   NaN        S  \n",
       "..     ...               ...      ...   ...      ...  \n",
       "886      0            211536  13.0000   NaN        S  \n",
       "887      0            112053  30.0000   B42        S  \n",
       "888      2        W./C. 6607  23.4500   NaN        S  \n",
       "889      0            111369  30.0000  C148        C  \n",
       "890      0            370376   7.7500   NaN        Q  \n",
       "\n",
       "[891 rows x 13 columns]"
      ]
     },
     "execution_count": 22,
     "metadata": {},
     "output_type": "execute_result"
    }
   ],
   "source": [
    "titanic"
   ]
  },
  {
   "cell_type": "markdown",
   "id": "b8a6f454",
   "metadata": {},
   "source": [
    "A nice thing about pandas `DataFrames` is that, by default, they show you their first and last 5 rows (their head and tail), and then tell you how big they are (891x12 in this case)."
   ]
  },
  {
   "cell_type": "markdown",
   "id": "e163cc12",
   "metadata": {},
   "source": [
    "We can look at as much of the head or tail as we want with the `head()` and `tail()` methods."
   ]
  },
  {
   "cell_type": "code",
   "execution_count": 23,
   "id": "11732c95",
   "metadata": {
    "scrolled": false
   },
   "outputs": [
    {
     "data": {
      "text/html": [
       "<div>\n",
       "<style scoped>\n",
       "    .dataframe tbody tr th:only-of-type {\n",
       "        vertical-align: middle;\n",
       "    }\n",
       "\n",
       "    .dataframe tbody tr th {\n",
       "        vertical-align: top;\n",
       "    }\n",
       "\n",
       "    .dataframe thead th {\n",
       "        text-align: right;\n",
       "    }\n",
       "</style>\n",
       "<table border=\"1\" class=\"dataframe\">\n",
       "  <thead>\n",
       "    <tr style=\"text-align: right;\">\n",
       "      <th></th>\n",
       "      <th>Unnamed: 0</th>\n",
       "      <th>PassengerId</th>\n",
       "      <th>Survived</th>\n",
       "      <th>Pclass</th>\n",
       "      <th>Name</th>\n",
       "      <th>Sex</th>\n",
       "      <th>Age</th>\n",
       "      <th>SibSp</th>\n",
       "      <th>Parch</th>\n",
       "      <th>Ticket</th>\n",
       "      <th>Fare</th>\n",
       "      <th>Cabin</th>\n",
       "      <th>Embarked</th>\n",
       "    </tr>\n",
       "  </thead>\n",
       "  <tbody>\n",
       "    <tr>\n",
       "      <th>882</th>\n",
       "      <td>882</td>\n",
       "      <td>883</td>\n",
       "      <td>0</td>\n",
       "      <td>3</td>\n",
       "      <td>Dahlberg, Miss. Gerda Ulrika</td>\n",
       "      <td>female</td>\n",
       "      <td>22.0</td>\n",
       "      <td>0</td>\n",
       "      <td>0</td>\n",
       "      <td>7552</td>\n",
       "      <td>10.5167</td>\n",
       "      <td>NaN</td>\n",
       "      <td>S</td>\n",
       "    </tr>\n",
       "    <tr>\n",
       "      <th>883</th>\n",
       "      <td>883</td>\n",
       "      <td>884</td>\n",
       "      <td>0</td>\n",
       "      <td>2</td>\n",
       "      <td>Banfield, Mr. Frederick James</td>\n",
       "      <td>male</td>\n",
       "      <td>28.0</td>\n",
       "      <td>0</td>\n",
       "      <td>0</td>\n",
       "      <td>C.A./SOTON 34068</td>\n",
       "      <td>10.5000</td>\n",
       "      <td>NaN</td>\n",
       "      <td>S</td>\n",
       "    </tr>\n",
       "    <tr>\n",
       "      <th>884</th>\n",
       "      <td>884</td>\n",
       "      <td>885</td>\n",
       "      <td>0</td>\n",
       "      <td>3</td>\n",
       "      <td>Sutehall, Mr. Henry Jr</td>\n",
       "      <td>male</td>\n",
       "      <td>25.0</td>\n",
       "      <td>0</td>\n",
       "      <td>0</td>\n",
       "      <td>SOTON/OQ 392076</td>\n",
       "      <td>7.0500</td>\n",
       "      <td>NaN</td>\n",
       "      <td>S</td>\n",
       "    </tr>\n",
       "    <tr>\n",
       "      <th>885</th>\n",
       "      <td>885</td>\n",
       "      <td>886</td>\n",
       "      <td>0</td>\n",
       "      <td>3</td>\n",
       "      <td>Rice, Mrs. William (Margaret Norton)</td>\n",
       "      <td>female</td>\n",
       "      <td>39.0</td>\n",
       "      <td>0</td>\n",
       "      <td>5</td>\n",
       "      <td>382652</td>\n",
       "      <td>29.1250</td>\n",
       "      <td>NaN</td>\n",
       "      <td>Q</td>\n",
       "    </tr>\n",
       "    <tr>\n",
       "      <th>886</th>\n",
       "      <td>886</td>\n",
       "      <td>887</td>\n",
       "      <td>0</td>\n",
       "      <td>2</td>\n",
       "      <td>Montvila, Rev. Juozas</td>\n",
       "      <td>male</td>\n",
       "      <td>27.0</td>\n",
       "      <td>0</td>\n",
       "      <td>0</td>\n",
       "      <td>211536</td>\n",
       "      <td>13.0000</td>\n",
       "      <td>NaN</td>\n",
       "      <td>S</td>\n",
       "    </tr>\n",
       "    <tr>\n",
       "      <th>887</th>\n",
       "      <td>887</td>\n",
       "      <td>888</td>\n",
       "      <td>1</td>\n",
       "      <td>1</td>\n",
       "      <td>Graham, Miss. Margaret Edith</td>\n",
       "      <td>female</td>\n",
       "      <td>19.0</td>\n",
       "      <td>0</td>\n",
       "      <td>0</td>\n",
       "      <td>112053</td>\n",
       "      <td>30.0000</td>\n",
       "      <td>B42</td>\n",
       "      <td>S</td>\n",
       "    </tr>\n",
       "    <tr>\n",
       "      <th>888</th>\n",
       "      <td>888</td>\n",
       "      <td>889</td>\n",
       "      <td>0</td>\n",
       "      <td>3</td>\n",
       "      <td>Johnston, Miss. Catherine Helen \"Carrie\"</td>\n",
       "      <td>female</td>\n",
       "      <td>NaN</td>\n",
       "      <td>1</td>\n",
       "      <td>2</td>\n",
       "      <td>W./C. 6607</td>\n",
       "      <td>23.4500</td>\n",
       "      <td>NaN</td>\n",
       "      <td>S</td>\n",
       "    </tr>\n",
       "    <tr>\n",
       "      <th>889</th>\n",
       "      <td>889</td>\n",
       "      <td>890</td>\n",
       "      <td>1</td>\n",
       "      <td>1</td>\n",
       "      <td>Behr, Mr. Karl Howell</td>\n",
       "      <td>male</td>\n",
       "      <td>26.0</td>\n",
       "      <td>0</td>\n",
       "      <td>0</td>\n",
       "      <td>111369</td>\n",
       "      <td>30.0000</td>\n",
       "      <td>C148</td>\n",
       "      <td>C</td>\n",
       "    </tr>\n",
       "    <tr>\n",
       "      <th>890</th>\n",
       "      <td>890</td>\n",
       "      <td>891</td>\n",
       "      <td>0</td>\n",
       "      <td>3</td>\n",
       "      <td>Dooley, Mr. Patrick</td>\n",
       "      <td>male</td>\n",
       "      <td>32.0</td>\n",
       "      <td>0</td>\n",
       "      <td>0</td>\n",
       "      <td>370376</td>\n",
       "      <td>7.7500</td>\n",
       "      <td>NaN</td>\n",
       "      <td>Q</td>\n",
       "    </tr>\n",
       "  </tbody>\n",
       "</table>\n",
       "</div>"
      ],
      "text/plain": [
       "     Unnamed: 0  PassengerId  Survived  Pclass  \\\n",
       "882         882          883         0       3   \n",
       "883         883          884         0       2   \n",
       "884         884          885         0       3   \n",
       "885         885          886         0       3   \n",
       "886         886          887         0       2   \n",
       "887         887          888         1       1   \n",
       "888         888          889         0       3   \n",
       "889         889          890         1       1   \n",
       "890         890          891         0       3   \n",
       "\n",
       "                                         Name     Sex   Age  SibSp  Parch  \\\n",
       "882              Dahlberg, Miss. Gerda Ulrika  female  22.0      0      0   \n",
       "883             Banfield, Mr. Frederick James    male  28.0      0      0   \n",
       "884                    Sutehall, Mr. Henry Jr    male  25.0      0      0   \n",
       "885      Rice, Mrs. William (Margaret Norton)  female  39.0      0      5   \n",
       "886                     Montvila, Rev. Juozas    male  27.0      0      0   \n",
       "887              Graham, Miss. Margaret Edith  female  19.0      0      0   \n",
       "888  Johnston, Miss. Catherine Helen \"Carrie\"  female   NaN      1      2   \n",
       "889                     Behr, Mr. Karl Howell    male  26.0      0      0   \n",
       "890                       Dooley, Mr. Patrick    male  32.0      0      0   \n",
       "\n",
       "               Ticket     Fare Cabin Embarked  \n",
       "882              7552  10.5167   NaN        S  \n",
       "883  C.A./SOTON 34068  10.5000   NaN        S  \n",
       "884   SOTON/OQ 392076   7.0500   NaN        S  \n",
       "885            382652  29.1250   NaN        Q  \n",
       "886            211536  13.0000   NaN        S  \n",
       "887            112053  30.0000   B42        S  \n",
       "888        W./C. 6607  23.4500   NaN        S  \n",
       "889            111369  30.0000  C148        C  \n",
       "890            370376   7.7500   NaN        Q  "
      ]
     },
     "execution_count": 23,
     "metadata": {},
     "output_type": "execute_result"
    }
   ],
   "source": [
    "titanic.tail(9)"
   ]
  },
  {
   "cell_type": "markdown",
   "id": "f5928ac0",
   "metadata": {},
   "source": [
    "---"
   ]
  },
  {
   "cell_type": "markdown",
   "id": "924546b9",
   "metadata": {},
   "source": [
    "Use the cell below to display the first 11 rows of the titanic data."
   ]
  },
  {
   "cell_type": "code",
   "execution_count": 24,
   "id": "55e19836",
   "metadata": {},
   "outputs": [
    {
     "data": {
      "text/html": [
       "<div>\n",
       "<style scoped>\n",
       "    .dataframe tbody tr th:only-of-type {\n",
       "        vertical-align: middle;\n",
       "    }\n",
       "\n",
       "    .dataframe tbody tr th {\n",
       "        vertical-align: top;\n",
       "    }\n",
       "\n",
       "    .dataframe thead th {\n",
       "        text-align: right;\n",
       "    }\n",
       "</style>\n",
       "<table border=\"1\" class=\"dataframe\">\n",
       "  <thead>\n",
       "    <tr style=\"text-align: right;\">\n",
       "      <th></th>\n",
       "      <th>Unnamed: 0</th>\n",
       "      <th>PassengerId</th>\n",
       "      <th>Survived</th>\n",
       "      <th>Pclass</th>\n",
       "      <th>Name</th>\n",
       "      <th>Sex</th>\n",
       "      <th>Age</th>\n",
       "      <th>SibSp</th>\n",
       "      <th>Parch</th>\n",
       "      <th>Ticket</th>\n",
       "      <th>Fare</th>\n",
       "      <th>Cabin</th>\n",
       "      <th>Embarked</th>\n",
       "    </tr>\n",
       "  </thead>\n",
       "  <tbody>\n",
       "    <tr>\n",
       "      <th>0</th>\n",
       "      <td>0</td>\n",
       "      <td>1</td>\n",
       "      <td>0</td>\n",
       "      <td>3</td>\n",
       "      <td>Braund, Mr. Owen Harris</td>\n",
       "      <td>male</td>\n",
       "      <td>22.0</td>\n",
       "      <td>1</td>\n",
       "      <td>0</td>\n",
       "      <td>A/5 21171</td>\n",
       "      <td>7.2500</td>\n",
       "      <td>NaN</td>\n",
       "      <td>S</td>\n",
       "    </tr>\n",
       "    <tr>\n",
       "      <th>1</th>\n",
       "      <td>1</td>\n",
       "      <td>2</td>\n",
       "      <td>1</td>\n",
       "      <td>1</td>\n",
       "      <td>Cumings, Mrs. John Bradley (Florence Briggs Th...</td>\n",
       "      <td>female</td>\n",
       "      <td>38.0</td>\n",
       "      <td>1</td>\n",
       "      <td>0</td>\n",
       "      <td>PC 17599</td>\n",
       "      <td>71.2833</td>\n",
       "      <td>C85</td>\n",
       "      <td>C</td>\n",
       "    </tr>\n",
       "    <tr>\n",
       "      <th>2</th>\n",
       "      <td>2</td>\n",
       "      <td>3</td>\n",
       "      <td>1</td>\n",
       "      <td>3</td>\n",
       "      <td>Heikkinen, Miss. Laina</td>\n",
       "      <td>female</td>\n",
       "      <td>26.0</td>\n",
       "      <td>0</td>\n",
       "      <td>0</td>\n",
       "      <td>STON/O2. 3101282</td>\n",
       "      <td>7.9250</td>\n",
       "      <td>NaN</td>\n",
       "      <td>S</td>\n",
       "    </tr>\n",
       "    <tr>\n",
       "      <th>3</th>\n",
       "      <td>3</td>\n",
       "      <td>4</td>\n",
       "      <td>1</td>\n",
       "      <td>1</td>\n",
       "      <td>Futrelle, Mrs. Jacques Heath (Lily May Peel)</td>\n",
       "      <td>female</td>\n",
       "      <td>35.0</td>\n",
       "      <td>1</td>\n",
       "      <td>0</td>\n",
       "      <td>113803</td>\n",
       "      <td>53.1000</td>\n",
       "      <td>C123</td>\n",
       "      <td>S</td>\n",
       "    </tr>\n",
       "    <tr>\n",
       "      <th>4</th>\n",
       "      <td>4</td>\n",
       "      <td>5</td>\n",
       "      <td>0</td>\n",
       "      <td>3</td>\n",
       "      <td>Allen, Mr. William Henry</td>\n",
       "      <td>male</td>\n",
       "      <td>35.0</td>\n",
       "      <td>0</td>\n",
       "      <td>0</td>\n",
       "      <td>373450</td>\n",
       "      <td>8.0500</td>\n",
       "      <td>NaN</td>\n",
       "      <td>S</td>\n",
       "    </tr>\n",
       "    <tr>\n",
       "      <th>5</th>\n",
       "      <td>5</td>\n",
       "      <td>6</td>\n",
       "      <td>0</td>\n",
       "      <td>3</td>\n",
       "      <td>Moran, Mr. James</td>\n",
       "      <td>male</td>\n",
       "      <td>NaN</td>\n",
       "      <td>0</td>\n",
       "      <td>0</td>\n",
       "      <td>330877</td>\n",
       "      <td>8.4583</td>\n",
       "      <td>NaN</td>\n",
       "      <td>Q</td>\n",
       "    </tr>\n",
       "    <tr>\n",
       "      <th>6</th>\n",
       "      <td>6</td>\n",
       "      <td>7</td>\n",
       "      <td>0</td>\n",
       "      <td>1</td>\n",
       "      <td>McCarthy, Mr. Timothy J</td>\n",
       "      <td>male</td>\n",
       "      <td>54.0</td>\n",
       "      <td>0</td>\n",
       "      <td>0</td>\n",
       "      <td>17463</td>\n",
       "      <td>51.8625</td>\n",
       "      <td>E46</td>\n",
       "      <td>S</td>\n",
       "    </tr>\n",
       "    <tr>\n",
       "      <th>7</th>\n",
       "      <td>7</td>\n",
       "      <td>8</td>\n",
       "      <td>0</td>\n",
       "      <td>3</td>\n",
       "      <td>Palsson, Master. Gosta Leonard</td>\n",
       "      <td>male</td>\n",
       "      <td>2.0</td>\n",
       "      <td>3</td>\n",
       "      <td>1</td>\n",
       "      <td>349909</td>\n",
       "      <td>21.0750</td>\n",
       "      <td>NaN</td>\n",
       "      <td>S</td>\n",
       "    </tr>\n",
       "    <tr>\n",
       "      <th>8</th>\n",
       "      <td>8</td>\n",
       "      <td>9</td>\n",
       "      <td>1</td>\n",
       "      <td>3</td>\n",
       "      <td>Johnson, Mrs. Oscar W (Elisabeth Vilhelmina Berg)</td>\n",
       "      <td>female</td>\n",
       "      <td>27.0</td>\n",
       "      <td>0</td>\n",
       "      <td>2</td>\n",
       "      <td>347742</td>\n",
       "      <td>11.1333</td>\n",
       "      <td>NaN</td>\n",
       "      <td>S</td>\n",
       "    </tr>\n",
       "    <tr>\n",
       "      <th>9</th>\n",
       "      <td>9</td>\n",
       "      <td>10</td>\n",
       "      <td>1</td>\n",
       "      <td>2</td>\n",
       "      <td>Nasser, Mrs. Nicholas (Adele Achem)</td>\n",
       "      <td>female</td>\n",
       "      <td>14.0</td>\n",
       "      <td>1</td>\n",
       "      <td>0</td>\n",
       "      <td>237736</td>\n",
       "      <td>30.0708</td>\n",
       "      <td>NaN</td>\n",
       "      <td>C</td>\n",
       "    </tr>\n",
       "    <tr>\n",
       "      <th>10</th>\n",
       "      <td>10</td>\n",
       "      <td>11</td>\n",
       "      <td>1</td>\n",
       "      <td>3</td>\n",
       "      <td>Sandstrom, Miss. Marguerite Rut</td>\n",
       "      <td>female</td>\n",
       "      <td>4.0</td>\n",
       "      <td>1</td>\n",
       "      <td>1</td>\n",
       "      <td>PP 9549</td>\n",
       "      <td>16.7000</td>\n",
       "      <td>G6</td>\n",
       "      <td>S</td>\n",
       "    </tr>\n",
       "  </tbody>\n",
       "</table>\n",
       "</div>"
      ],
      "text/plain": [
       "    Unnamed: 0  PassengerId  Survived  Pclass  \\\n",
       "0            0            1         0       3   \n",
       "1            1            2         1       1   \n",
       "2            2            3         1       3   \n",
       "3            3            4         1       1   \n",
       "4            4            5         0       3   \n",
       "5            5            6         0       3   \n",
       "6            6            7         0       1   \n",
       "7            7            8         0       3   \n",
       "8            8            9         1       3   \n",
       "9            9           10         1       2   \n",
       "10          10           11         1       3   \n",
       "\n",
       "                                                 Name     Sex   Age  SibSp  \\\n",
       "0                             Braund, Mr. Owen Harris    male  22.0      1   \n",
       "1   Cumings, Mrs. John Bradley (Florence Briggs Th...  female  38.0      1   \n",
       "2                              Heikkinen, Miss. Laina  female  26.0      0   \n",
       "3        Futrelle, Mrs. Jacques Heath (Lily May Peel)  female  35.0      1   \n",
       "4                            Allen, Mr. William Henry    male  35.0      0   \n",
       "5                                    Moran, Mr. James    male   NaN      0   \n",
       "6                             McCarthy, Mr. Timothy J    male  54.0      0   \n",
       "7                      Palsson, Master. Gosta Leonard    male   2.0      3   \n",
       "8   Johnson, Mrs. Oscar W (Elisabeth Vilhelmina Berg)  female  27.0      0   \n",
       "9                 Nasser, Mrs. Nicholas (Adele Achem)  female  14.0      1   \n",
       "10                    Sandstrom, Miss. Marguerite Rut  female   4.0      1   \n",
       "\n",
       "    Parch            Ticket     Fare Cabin Embarked  \n",
       "0       0         A/5 21171   7.2500   NaN        S  \n",
       "1       0          PC 17599  71.2833   C85        C  \n",
       "2       0  STON/O2. 3101282   7.9250   NaN        S  \n",
       "3       0            113803  53.1000  C123        S  \n",
       "4       0            373450   8.0500   NaN        S  \n",
       "5       0            330877   8.4583   NaN        Q  \n",
       "6       0             17463  51.8625   E46        S  \n",
       "7       1            349909  21.0750   NaN        S  \n",
       "8       2            347742  11.1333   NaN        S  \n",
       "9       0            237736  30.0708   NaN        C  \n",
       "10      1           PP 9549  16.7000    G6        S  "
      ]
     },
     "execution_count": 24,
     "metadata": {},
     "output_type": "execute_result"
    }
   ],
   "source": [
    "# but these rows go to 11...\n",
    "titanic.head(11)\n"
   ]
  },
  {
   "cell_type": "markdown",
   "id": "80c7ed24",
   "metadata": {},
   "source": [
    "---"
   ]
  },
  {
   "cell_type": "markdown",
   "id": "89b1e0ee",
   "metadata": {},
   "source": [
    "We can also look at the data types:"
   ]
  },
  {
   "cell_type": "code",
   "execution_count": 25,
   "id": "a6fb32dd",
   "metadata": {
    "scrolled": false
   },
   "outputs": [
    {
     "data": {
      "text/plain": [
       "Unnamed: 0       int64\n",
       "PassengerId      int64\n",
       "Survived         int64\n",
       "Pclass           int64\n",
       "Name            object\n",
       "Sex             object\n",
       "Age            float64\n",
       "SibSp            int64\n",
       "Parch            int64\n",
       "Ticket          object\n",
       "Fare           float64\n",
       "Cabin           object\n",
       "Embarked        object\n",
       "dtype: object"
      ]
     },
     "execution_count": 25,
     "metadata": {},
     "output_type": "execute_result"
    }
   ],
   "source": [
    "titanic.dtypes"
   ]
  },
  {
   "cell_type": "markdown",
   "id": "1f2427e8",
   "metadata": {},
   "source": [
    "(the columns listed as \"object\" seem to be strings)"
   ]
  },
  {
   "cell_type": "markdown",
   "id": "dcaaf1dc",
   "metadata": {},
   "source": [
    "We can also get more detailed information using the `info()` method:"
   ]
  },
  {
   "cell_type": "code",
   "execution_count": 26,
   "id": "848036c0",
   "metadata": {},
   "outputs": [
    {
     "name": "stdout",
     "output_type": "stream",
     "text": [
      "<class 'pandas.core.frame.DataFrame'>\n",
      "RangeIndex: 891 entries, 0 to 890\n",
      "Data columns (total 13 columns):\n",
      " #   Column       Non-Null Count  Dtype  \n",
      "---  ------       --------------  -----  \n",
      " 0   Unnamed: 0   891 non-null    int64  \n",
      " 1   PassengerId  891 non-null    int64  \n",
      " 2   Survived     891 non-null    int64  \n",
      " 3   Pclass       891 non-null    int64  \n",
      " 4   Name         891 non-null    object \n",
      " 5   Sex          891 non-null    object \n",
      " 6   Age          714 non-null    float64\n",
      " 7   SibSp        891 non-null    int64  \n",
      " 8   Parch        891 non-null    int64  \n",
      " 9   Ticket       891 non-null    object \n",
      " 10  Fare         891 non-null    float64\n",
      " 11  Cabin        204 non-null    object \n",
      " 12  Embarked     889 non-null    object \n",
      "dtypes: float64(2), int64(6), object(5)\n",
      "memory usage: 90.6+ KB\n"
     ]
    }
   ],
   "source": [
    "titanic.info()"
   ]
  },
  {
   "cell_type": "markdown",
   "id": "011e57a0",
   "metadata": {},
   "source": [
    "This gives us a nice summary of the types of data in the columns and, in particular, how many valid (non-missing) values are in each. We can see that \"Cabin\", for example, has many missing values."
   ]
  },
  {
   "cell_type": "markdown",
   "id": "79c66a9e",
   "metadata": {},
   "source": [
    "### Exporting (output)"
   ]
  },
  {
   "cell_type": "markdown",
   "id": "a290125b",
   "metadata": {},
   "source": [
    "The `to_` methods, such as `to_csv()`, `to_excel()`, etc., allow us to export data in many ways. As an example, let's export the titanic data as a Microsoft Excel file."
   ]
  },
  {
   "cell_type": "markdown",
   "id": "96ad33d4",
   "metadata": {},
   "source": [
    "---"
   ]
  },
  {
   "cell_type": "markdown",
   "id": "d0a1ab5d",
   "metadata": {},
   "source": [
    "In the cell below, use `titanic.to_excel(...)` to export the data to an Excel spreadsheet."
   ]
  },
  {
   "cell_type": "code",
   "execution_count": null,
   "id": "dd23755f",
   "metadata": {},
   "outputs": [],
   "source": [
    "# exporting an Excel file!\n"
   ]
  },
  {
   "cell_type": "markdown",
   "id": "049b6e61",
   "metadata": {},
   "source": [
    "Open the file in Excel to verify that the export worked."
   ]
  },
  {
   "cell_type": "markdown",
   "id": "b78e8c8c",
   "metadata": {},
   "source": [
    "---"
   ]
  },
  {
   "cell_type": "markdown",
   "id": "671fb1d7",
   "metadata": {},
   "source": [
    "## Selecting Data"
   ]
  },
  {
   "cell_type": "markdown",
   "id": "fc65e4b6",
   "metadata": {},
   "source": [
    "In numpy, we select data by primarily by row and column indexes. In pandas, we generally address columns (corresponding to real world variables) by *name* and rows by one or more *criteria*."
   ]
  },
  {
   "cell_type": "markdown",
   "id": "daad54da",
   "metadata": {},
   "source": [
    "### Getting columns"
   ]
  },
  {
   "cell_type": "markdown",
   "id": "f952c8ff",
   "metadata": {},
   "source": [
    "As we did above with our little toy Disney data, we can compute the mean age of the passengers by grabbing that column of data by name, and then computing the mean of it."
   ]
  },
  {
   "cell_type": "code",
   "execution_count": 27,
   "id": "9eb9abcd",
   "metadata": {},
   "outputs": [
    {
     "data": {
      "text/plain": [
       "29.69911764705882"
      ]
     },
     "execution_count": 27,
     "metadata": {},
     "output_type": "execute_result"
    }
   ],
   "source": [
    "ages = titanic['Age']\n",
    "ages.mean()"
   ]
  },
  {
   "cell_type": "markdown",
   "id": "0efcdd54",
   "metadata": {},
   "source": [
    "---"
   ]
  },
  {
   "cell_type": "markdown",
   "id": "e2d41b34",
   "metadata": {},
   "source": [
    "In the cell below, compute the mean age in one line of code (i.e., not creating the temporary 'age' object)."
   ]
  },
  {
   "cell_type": "code",
   "execution_count": 28,
   "id": "652df661",
   "metadata": {},
   "outputs": [
    {
     "data": {
      "text/plain": [
       "29.69911764705882"
      ]
     },
     "execution_count": 28,
     "metadata": {},
     "output_type": "execute_result"
    }
   ],
   "source": [
    "# average age of passengers on the RMS Titanic\n",
    "titanic['Age'].mean()\n"
   ]
  },
  {
   "cell_type": "markdown",
   "id": "6ebaf394",
   "metadata": {},
   "source": [
    "---"
   ]
  },
  {
   "cell_type": "markdown",
   "id": "ef4a2967",
   "metadata": {},
   "source": [
    "We can get multiple columns by indexing our `DataFrame` with a Python list of column names. We can do this in two lines for readability."
   ]
  },
  {
   "cell_type": "code",
   "execution_count": 29,
   "id": "01e3a5bf",
   "metadata": {},
   "outputs": [],
   "source": [
    "wanted_cols = ['Fare', 'Survived']\n",
    "fare_surv = titanic[wanted_cols]"
   ]
  },
  {
   "cell_type": "code",
   "execution_count": 30,
   "id": "bfac8193",
   "metadata": {},
   "outputs": [
    {
     "data": {
      "text/html": [
       "<div>\n",
       "<style scoped>\n",
       "    .dataframe tbody tr th:only-of-type {\n",
       "        vertical-align: middle;\n",
       "    }\n",
       "\n",
       "    .dataframe tbody tr th {\n",
       "        vertical-align: top;\n",
       "    }\n",
       "\n",
       "    .dataframe thead th {\n",
       "        text-align: right;\n",
       "    }\n",
       "</style>\n",
       "<table border=\"1\" class=\"dataframe\">\n",
       "  <thead>\n",
       "    <tr style=\"text-align: right;\">\n",
       "      <th></th>\n",
       "      <th>Fare</th>\n",
       "      <th>Survived</th>\n",
       "    </tr>\n",
       "  </thead>\n",
       "  <tbody>\n",
       "    <tr>\n",
       "      <th>0</th>\n",
       "      <td>7.2500</td>\n",
       "      <td>0</td>\n",
       "    </tr>\n",
       "    <tr>\n",
       "      <th>1</th>\n",
       "      <td>71.2833</td>\n",
       "      <td>1</td>\n",
       "    </tr>\n",
       "    <tr>\n",
       "      <th>2</th>\n",
       "      <td>7.9250</td>\n",
       "      <td>1</td>\n",
       "    </tr>\n",
       "    <tr>\n",
       "      <th>3</th>\n",
       "      <td>53.1000</td>\n",
       "      <td>1</td>\n",
       "    </tr>\n",
       "    <tr>\n",
       "      <th>4</th>\n",
       "      <td>8.0500</td>\n",
       "      <td>0</td>\n",
       "    </tr>\n",
       "    <tr>\n",
       "      <th>...</th>\n",
       "      <td>...</td>\n",
       "      <td>...</td>\n",
       "    </tr>\n",
       "    <tr>\n",
       "      <th>886</th>\n",
       "      <td>13.0000</td>\n",
       "      <td>0</td>\n",
       "    </tr>\n",
       "    <tr>\n",
       "      <th>887</th>\n",
       "      <td>30.0000</td>\n",
       "      <td>1</td>\n",
       "    </tr>\n",
       "    <tr>\n",
       "      <th>888</th>\n",
       "      <td>23.4500</td>\n",
       "      <td>0</td>\n",
       "    </tr>\n",
       "    <tr>\n",
       "      <th>889</th>\n",
       "      <td>30.0000</td>\n",
       "      <td>1</td>\n",
       "    </tr>\n",
       "    <tr>\n",
       "      <th>890</th>\n",
       "      <td>7.7500</td>\n",
       "      <td>0</td>\n",
       "    </tr>\n",
       "  </tbody>\n",
       "</table>\n",
       "<p>891 rows × 2 columns</p>\n",
       "</div>"
      ],
      "text/plain": [
       "        Fare  Survived\n",
       "0     7.2500         0\n",
       "1    71.2833         1\n",
       "2     7.9250         1\n",
       "3    53.1000         1\n",
       "4     8.0500         0\n",
       "..       ...       ...\n",
       "886  13.0000         0\n",
       "887  30.0000         1\n",
       "888  23.4500         0\n",
       "889  30.0000         1\n",
       "890   7.7500         0\n",
       "\n",
       "[891 rows x 2 columns]"
      ]
     },
     "execution_count": 30,
     "metadata": {},
     "output_type": "execute_result"
    }
   ],
   "source": [
    "fare_surv"
   ]
  },
  {
   "cell_type": "markdown",
   "id": "2ab389ba",
   "metadata": {},
   "source": [
    "But more commonly we do it in a single line."
   ]
  },
  {
   "cell_type": "code",
   "execution_count": 31,
   "id": "4ae18851",
   "metadata": {},
   "outputs": [],
   "source": [
    "fare_surv = titanic[['Fare', 'Survived']]"
   ]
  },
  {
   "cell_type": "markdown",
   "id": "38f9c160",
   "metadata": {},
   "source": [
    "Your initial reaction might be \"Why the double brackets? Why not single brackets?\", and the reason should be clear if we look back at the two line example: the `DataFrame` expects a Python list, not separate strings. So the outer set of brackets are indexing brackets, and the inner set defines a Python list."
   ]
  },
  {
   "cell_type": "markdown",
   "id": "030cb114",
   "metadata": {},
   "source": [
    "### Getting rows"
   ]
  },
  {
   "cell_type": "markdown",
   "id": "0490d249",
   "metadata": {},
   "source": [
    "We generally extract rows of interest by placing one or more criterea on a particular column. "
   ]
  },
  {
   "cell_type": "code",
   "execution_count": 32,
   "id": "76a9f818",
   "metadata": {},
   "outputs": [],
   "source": [
    "my_critereon = fare_surv['Fare'] > 20\n",
    "rich = fare_surv[my_critereon]"
   ]
  },
  {
   "cell_type": "markdown",
   "id": "d5246ecf",
   "metadata": {},
   "source": [
    "What is actually happening here is that the logical test `fare_surv['Fare'] > 20` is creating a pandas series that is `True` for the rows in which the fare paid was greater than 20 pounds sterling, and `False` otherwise. \n",
    "\n",
    "Let's look at `my_critereon`:"
   ]
  },
  {
   "cell_type": "code",
   "execution_count": 33,
   "id": "2ad75a59",
   "metadata": {},
   "outputs": [
    {
     "data": {
      "text/plain": [
       "0      False\n",
       "1       True\n",
       "2      False\n",
       "3       True\n",
       "4      False\n",
       "       ...  \n",
       "886    False\n",
       "887     True\n",
       "888     True\n",
       "889     True\n",
       "890    False\n",
       "Name: Fare, Length: 891, dtype: bool"
      ]
     },
     "execution_count": 33,
     "metadata": {},
     "output_type": "execute_result"
    }
   ],
   "source": [
    "my_critereon"
   ]
  },
  {
   "cell_type": "markdown",
   "id": "304dd5e1",
   "metadata": {},
   "source": [
    "This series is then used to get all the rows of `fare_surv` that correspond to the `True` values, and these are placed in `rich`.\n",
    "\n",
    "This is known as ***logical indexing***, and is widely used in data analysis!"
   ]
  },
  {
   "cell_type": "markdown",
   "id": "ee3ba789",
   "metadata": {},
   "source": [
    "As with fetching columns, we can do this one line instead of two."
   ]
  },
  {
   "cell_type": "code",
   "execution_count": 34,
   "id": "252de5cd",
   "metadata": {},
   "outputs": [],
   "source": [
    "rich = fare_surv[fare_surv['Fare'] > 20]"
   ]
  },
  {
   "cell_type": "markdown",
   "id": "97a5275d",
   "metadata": {},
   "source": [
    "Whether you make a separate indexing series like `my_critereon` or put the test inside the indexing brackets is up to you. For simple tests, putting the test inside the brackets doesn't hurt the readability of the code at all. For more complicated tests – if you wanted all the cases of female passengers that paid between 20 and 50 lbs. for their fare, and had no siblings and two parents aboard, say – then you might want to make the test series first, and then do the indexing. "
   ]
  },
  {
   "cell_type": "markdown",
   "id": "01fe56b2",
   "metadata": {},
   "source": [
    "---"
   ]
  },
  {
   "cell_type": "markdown",
   "id": "9b21e7f9",
   "metadata": {},
   "source": [
    "In the cell below, get the passenger class (`Pclass`) and survival status of passengers that paid more than 20 pounds for their voyage."
   ]
  },
  {
   "cell_type": "code",
   "execution_count": 48,
   "id": "d124e6dc",
   "metadata": {},
   "outputs": [
    {
     "data": {
      "text/html": [
       "<div>\n",
       "<style scoped>\n",
       "    .dataframe tbody tr th:only-of-type {\n",
       "        vertical-align: middle;\n",
       "    }\n",
       "\n",
       "    .dataframe tbody tr th {\n",
       "        vertical-align: top;\n",
       "    }\n",
       "\n",
       "    .dataframe thead th {\n",
       "        text-align: right;\n",
       "    }\n",
       "</style>\n",
       "<table border=\"1\" class=\"dataframe\">\n",
       "  <thead>\n",
       "    <tr style=\"text-align: right;\">\n",
       "      <th></th>\n",
       "      <th>Survived</th>\n",
       "      <th>Pclass</th>\n",
       "      <th>Fare</th>\n",
       "    </tr>\n",
       "  </thead>\n",
       "  <tbody>\n",
       "    <tr>\n",
       "      <th>1</th>\n",
       "      <td>1</td>\n",
       "      <td>1</td>\n",
       "      <td>71.2833</td>\n",
       "    </tr>\n",
       "    <tr>\n",
       "      <th>3</th>\n",
       "      <td>1</td>\n",
       "      <td>1</td>\n",
       "      <td>53.1000</td>\n",
       "    </tr>\n",
       "    <tr>\n",
       "      <th>6</th>\n",
       "      <td>0</td>\n",
       "      <td>1</td>\n",
       "      <td>51.8625</td>\n",
       "    </tr>\n",
       "    <tr>\n",
       "      <th>7</th>\n",
       "      <td>0</td>\n",
       "      <td>3</td>\n",
       "      <td>21.0750</td>\n",
       "    </tr>\n",
       "    <tr>\n",
       "      <th>9</th>\n",
       "      <td>1</td>\n",
       "      <td>2</td>\n",
       "      <td>30.0708</td>\n",
       "    </tr>\n",
       "    <tr>\n",
       "      <th>...</th>\n",
       "      <td>...</td>\n",
       "      <td>...</td>\n",
       "      <td>...</td>\n",
       "    </tr>\n",
       "    <tr>\n",
       "      <th>880</th>\n",
       "      <td>1</td>\n",
       "      <td>2</td>\n",
       "      <td>26.0000</td>\n",
       "    </tr>\n",
       "    <tr>\n",
       "      <th>885</th>\n",
       "      <td>0</td>\n",
       "      <td>3</td>\n",
       "      <td>29.1250</td>\n",
       "    </tr>\n",
       "    <tr>\n",
       "      <th>887</th>\n",
       "      <td>1</td>\n",
       "      <td>1</td>\n",
       "      <td>30.0000</td>\n",
       "    </tr>\n",
       "    <tr>\n",
       "      <th>888</th>\n",
       "      <td>0</td>\n",
       "      <td>3</td>\n",
       "      <td>23.4500</td>\n",
       "    </tr>\n",
       "    <tr>\n",
       "      <th>889</th>\n",
       "      <td>1</td>\n",
       "      <td>1</td>\n",
       "      <td>30.0000</td>\n",
       "    </tr>\n",
       "  </tbody>\n",
       "</table>\n",
       "<p>376 rows × 3 columns</p>\n",
       "</div>"
      ],
      "text/plain": [
       "     Survived  Pclass     Fare\n",
       "1           1       1  71.2833\n",
       "3           1       1  53.1000\n",
       "6           0       1  51.8625\n",
       "7           0       3  21.0750\n",
       "9           1       2  30.0708\n",
       "..        ...     ...      ...\n",
       "880         1       2  26.0000\n",
       "885         0       3  29.1250\n",
       "887         1       1  30.0000\n",
       "888         0       3  23.4500\n",
       "889         1       1  30.0000\n",
       "\n",
       "[376 rows x 3 columns]"
      ]
     },
     "execution_count": 48,
     "metadata": {},
     "output_type": "execute_result"
    }
   ],
   "source": [
    "# passenger class and survival of high fares\n",
    "richLives=titanic[['Survived','Pclass', 'Fare']]\n",
    "rich_Lives = richLives[richLives['Fare']>20]\n",
    "rich_Lives"
   ]
  },
  {
   "cell_type": "markdown",
   "id": "575ee8dc",
   "metadata": {},
   "source": [
    "Now fetch the same for passengers that paid 20 pounds or less for their voyage."
   ]
  },
  {
   "cell_type": "code",
   "execution_count": 50,
   "id": "cc424175",
   "metadata": {
    "scrolled": false
   },
   "outputs": [
    {
     "data": {
      "text/html": [
       "<div>\n",
       "<style scoped>\n",
       "    .dataframe tbody tr th:only-of-type {\n",
       "        vertical-align: middle;\n",
       "    }\n",
       "\n",
       "    .dataframe tbody tr th {\n",
       "        vertical-align: top;\n",
       "    }\n",
       "\n",
       "    .dataframe thead th {\n",
       "        text-align: right;\n",
       "    }\n",
       "</style>\n",
       "<table border=\"1\" class=\"dataframe\">\n",
       "  <thead>\n",
       "    <tr style=\"text-align: right;\">\n",
       "      <th></th>\n",
       "      <th>Survived</th>\n",
       "      <th>Pclass</th>\n",
       "      <th>Fare</th>\n",
       "    </tr>\n",
       "  </thead>\n",
       "  <tbody>\n",
       "    <tr>\n",
       "      <th>0</th>\n",
       "      <td>0</td>\n",
       "      <td>3</td>\n",
       "      <td>7.2500</td>\n",
       "    </tr>\n",
       "    <tr>\n",
       "      <th>2</th>\n",
       "      <td>1</td>\n",
       "      <td>3</td>\n",
       "      <td>7.9250</td>\n",
       "    </tr>\n",
       "    <tr>\n",
       "      <th>4</th>\n",
       "      <td>0</td>\n",
       "      <td>3</td>\n",
       "      <td>8.0500</td>\n",
       "    </tr>\n",
       "    <tr>\n",
       "      <th>5</th>\n",
       "      <td>0</td>\n",
       "      <td>3</td>\n",
       "      <td>8.4583</td>\n",
       "    </tr>\n",
       "    <tr>\n",
       "      <th>8</th>\n",
       "      <td>1</td>\n",
       "      <td>3</td>\n",
       "      <td>11.1333</td>\n",
       "    </tr>\n",
       "    <tr>\n",
       "      <th>...</th>\n",
       "      <td>...</td>\n",
       "      <td>...</td>\n",
       "      <td>...</td>\n",
       "    </tr>\n",
       "    <tr>\n",
       "      <th>882</th>\n",
       "      <td>0</td>\n",
       "      <td>3</td>\n",
       "      <td>10.5167</td>\n",
       "    </tr>\n",
       "    <tr>\n",
       "      <th>883</th>\n",
       "      <td>0</td>\n",
       "      <td>2</td>\n",
       "      <td>10.5000</td>\n",
       "    </tr>\n",
       "    <tr>\n",
       "      <th>884</th>\n",
       "      <td>0</td>\n",
       "      <td>3</td>\n",
       "      <td>7.0500</td>\n",
       "    </tr>\n",
       "    <tr>\n",
       "      <th>886</th>\n",
       "      <td>0</td>\n",
       "      <td>2</td>\n",
       "      <td>13.0000</td>\n",
       "    </tr>\n",
       "    <tr>\n",
       "      <th>890</th>\n",
       "      <td>0</td>\n",
       "      <td>3</td>\n",
       "      <td>7.7500</td>\n",
       "    </tr>\n",
       "  </tbody>\n",
       "</table>\n",
       "<p>515 rows × 3 columns</p>\n",
       "</div>"
      ],
      "text/plain": [
       "     Survived  Pclass     Fare\n",
       "0           0       3   7.2500\n",
       "2           1       3   7.9250\n",
       "4           0       3   8.0500\n",
       "5           0       3   8.4583\n",
       "8           1       3  11.1333\n",
       "..        ...     ...      ...\n",
       "882         0       3  10.5167\n",
       "883         0       2  10.5000\n",
       "884         0       3   7.0500\n",
       "886         0       2  13.0000\n",
       "890         0       3   7.7500\n",
       "\n",
       "[515 rows x 3 columns]"
      ]
     },
     "execution_count": 50,
     "metadata": {},
     "output_type": "execute_result"
    }
   ],
   "source": [
    "# passenger class and survival of low fares\n",
    "richLives=titanic[['Survived','Pclass', 'Fare']]\n",
    "not_rich_Lives = richLives[richLives['Fare']<=20]\n",
    "not_rich_Lives"
   ]
  },
  {
   "cell_type": "markdown",
   "id": "5fec11a3",
   "metadata": {},
   "source": [
    "Finally, get the class and survival status for passengers that paid either less than 10 lbs. **or** more than 50 lbs. for their fare. "
   ]
  },
  {
   "cell_type": "code",
   "execution_count": 59,
   "id": "61a62f1c",
   "metadata": {},
   "outputs": [
    {
     "ename": "SyntaxError",
     "evalue": "invalid syntax (2350512362.py, line 3)",
     "output_type": "error",
     "traceback": [
      "\u001b[0;36m  Input \u001b[0;32mIn [59]\u001b[0;36m\u001b[0m\n\u001b[0;31m    poor_rich_Lives = richLives[richLives['Fare']<10 and > 50]\u001b[0m\n\u001b[0m                                                         ^\u001b[0m\n\u001b[0;31mSyntaxError\u001b[0m\u001b[0;31m:\u001b[0m invalid syntax\n"
     ]
    }
   ],
   "source": [
    "# ppl paying a little *or* a lot\n",
    "richLives=titanic[['Survived','Pclass', 'Fare']]\n",
    "poor_rich_Lives = richLives[richLives['Fare']<10]\n",
    "\n",
    "poor_rich_Lives\n"
   ]
  },
  {
   "cell_type": "markdown",
   "id": "26f53181",
   "metadata": {},
   "source": [
    "If you did the above in two steps, see if you can do it in one go instead! There are hints just above."
   ]
  },
  {
   "cell_type": "markdown",
   "id": "2b567425",
   "metadata": {},
   "source": [
    "---"
   ]
  },
  {
   "cell_type": "markdown",
   "id": "e0ba3064",
   "metadata": {},
   "source": [
    "## Basic Plotting"
   ]
  },
  {
   "cell_type": "markdown",
   "id": "92b4c301",
   "metadata": {},
   "source": [
    "`DataFrame` objects know how to plot themselves! Or, more precisely, `DataFrame` objects have methods for plotting. Let's try!"
   ]
  },
  {
   "cell_type": "code",
   "execution_count": 60,
   "id": "eb33a0e4",
   "metadata": {},
   "outputs": [
    {
     "data": {
      "image/png": "[encoded data removed]",
      "text/plain": [
       "<Figure size 432x288 with 1 Axes>"
      ]
     },
     "metadata": {
      "needs_background": "light"
     },
     "output_type": "display_data"
    }
   ],
   "source": [
    "import matplotlib.pyplot as plt\n",
    "fare_surv.plot();"
   ]
  },
  {
   "cell_type": "markdown",
   "id": "043f8691",
   "metadata": {},
   "source": [
    "As a graph, this one isn't very informative, but it does show us what the default `DataFrame.plot()` method does: it plots (numerical) data by row index. This could be quite useful if a data frame were sorted on a particular variable..."
   ]
  },
  {
   "cell_type": "markdown",
   "id": "1c742998",
   "metadata": {},
   "source": [
    "Other type of plots are reached through plot, like `fare_surv.plot.scatter()` or similar. We can see what methods are available by hitting the \\<TAB\\> key after `DataFrame.plot.`\n",
    "    \n",
    "Do this below;"
   ]
  },
  {
   "cell_type": "code",
   "execution_count": 63,
   "id": "0db4ddee",
   "metadata": {},
   "outputs": [
    {
     "data": {
      "text/plain": [
       "<AxesSubplot:>"
      ]
     },
     "execution_count": 63,
     "metadata": {},
     "output_type": "execute_result"
    },
    {
     "data": {
      "image/png": "[encoded data removed]",
      "text/plain": [
       "<Figure size 432x288 with 1 Axes>"
      ]
     },
     "metadata": {
      "needs_background": "light"
     },
     "output_type": "display_data"
    }
   ],
   "source": [
    "fare_surv.plot()"
   ]
  },
  {
   "cell_type": "markdown",
   "id": "9100ed4d",
   "metadata": {},
   "source": [
    "So there *is* a `scatter()` available, along with many of our other `matplotlib` friends. \n",
    "\n",
    "Let's try a scatter plot Fare vs. Survival."
   ]
  },
  {
   "cell_type": "code",
   "execution_count": 64,
   "id": "ba553ed0",
   "metadata": {},
   "outputs": [
    {
     "data": {
      "text/plain": [
       "<AxesSubplot:xlabel='Survived', ylabel='Fare'>"
      ]
     },
     "execution_count": 64,
     "metadata": {},
     "output_type": "execute_result"
    },
    {
     "data": {
      "image/png": "[encoded data removed]",
      "text/plain": [
       "<Figure size 432x288 with 1 Axes>"
      ]
     },
     "metadata": {
      "needs_background": "light"
     },
     "output_type": "display_data"
    }
   ],
   "source": [
    "fare_surv.plot.scatter(x=\"Survived\", y=\"Fare\", alpha = 0.1)"
   ]
  },
  {
   "cell_type": "markdown",
   "id": "3fedd265",
   "metadata": {},
   "source": [
    "Looks like those 500 lb. fares were worth it."
   ]
  },
  {
   "cell_type": "markdown",
   "id": "1f3ae7db",
   "metadata": {},
   "source": [
    "---"
   ]
  },
  {
   "cell_type": "markdown",
   "id": "8c8964ee",
   "metadata": {},
   "source": [
    "Use the cell below to make a box plot of the ***column*** `Fare` ***by*** the variable `Survived`."
   ]
  },
  {
   "cell_type": "code",
   "execution_count": 65,
   "id": "9aeb6bd9",
   "metadata": {},
   "outputs": [
    {
     "data": {
      "text/plain": [
       "<AxesSubplot:>"
      ]
     },
     "execution_count": 65,
     "metadata": {},
     "output_type": "execute_result"
    },
    {
     "data": {
      "image/png": "[encoded data removed]",
      "text/plain": [
       "<Figure size 432x288 with 1 Axes>"
      ]
     },
     "metadata": {
      "needs_background": "light"
     },
     "output_type": "display_data"
    }
   ],
   "source": [
    "# boxplot of Fare paid by Survival status\n",
    "fare_surv.boxplot()"
   ]
  },
  {
   "cell_type": "markdown",
   "id": "b6d98ffd",
   "metadata": {},
   "source": [
    "---"
   ]
  },
  {
   "cell_type": "markdown",
   "id": "8053188c",
   "metadata": {},
   "source": [
    "## Calculating New Columns"
   ]
  },
  {
   "cell_type": "markdown",
   "id": "2c771440",
   "metadata": {},
   "source": [
    "We often want to compute new columns based on existing ones. Pandas makes this really easy!"
   ]
  },
  {
   "cell_type": "markdown",
   "id": "c3304b7d",
   "metadata": {},
   "source": [
    "Let's use numpy to make a toy data set of annual wages and income-from-interest for 10 people."
   ]
  },
  {
   "cell_type": "code",
   "execution_count": null,
   "id": "d3ccbc98",
   "metadata": {},
   "outputs": [],
   "source": [
    "import numpy as np"
   ]
  },
  {
   "cell_type": "markdown",
   "id": "c75fb626",
   "metadata": {},
   "source": [
    "In following code, you should be able to understand the numpy bit up top. The pandas bit further down should sort of make sense, but don't worry if you don't fully understand it. You can come back and look at it again after you've finished this tutorial."
   ]
  },
  {
   "cell_type": "code",
   "execution_count": null,
   "id": "e971e68e",
   "metadata": {},
   "outputs": [],
   "source": [
    "# make some incomes in thousands of US dollars\n",
    "rng = np.random.default_rng(seed=42)\n",
    "raw_dat = rng.integers(0,100,size=(10, 2))\n",
    "raw_dat[:,0] = raw_dat[:,0] + 100\n",
    "raw_dat[4,1] = raw_dat[4,1] + 200 \n",
    "\n",
    "# make initial column names\n",
    "col_names = ['wage', 'interest'] \n",
    "\n",
    "# make the initial pandas data frame\n",
    "incomes = pd.DataFrame(raw_dat, columns = col_names) \n",
    "\n",
    "# add a gender column \n",
    "gender = ['f', 'm', 'n', 'f', 'f', 'n', 'm', 'm', 'f', 'f']\n",
    "incomes['gender'] = gender\n",
    "\n",
    "# look at our new data frame\n",
    "incomes"
   ]
  },
  {
   "cell_type": "markdown",
   "id": "938a402b",
   "metadata": {},
   "source": [
    "One obvious thing to look at from a behavioral science perspective would be total income. After all, money is money..."
   ]
  },
  {
   "cell_type": "markdown",
   "id": "48166d4c",
   "metadata": {},
   "source": [
    "So we'll make a new column for total income, and set it to the sum of the wage and interest columns. To do this, we address our desired column as though it already exists, and make it equal to what we want (the sum of wage and interest income, in this case)."
   ]
  },
  {
   "cell_type": "code",
   "execution_count": null,
   "id": "35511fba",
   "metadata": {},
   "outputs": [],
   "source": [
    "incomes['total'] = incomes['wage'] + incomes['interest']\n",
    "incomes"
   ]
  },
  {
   "cell_type": "markdown",
   "id": "977ac21f",
   "metadata": {},
   "source": [
    "*All of the **arithmetic** and **logical** operators can be used to create new columns based on existing ones.*"
   ]
  },
  {
   "cell_type": "markdown",
   "id": "84ca0c64",
   "metadata": {},
   "source": [
    "We can also use scaler multipliers or addends, etc. (like we did when we created the raw data with numpy just above). The scaler will be \"broadcast\" to each element of the column.\n",
    "\n",
    "For example, if we wanted to know the total income in Euros, we could do this:"
   ]
  },
  {
   "cell_type": "code",
   "execution_count": null,
   "id": "163c95b9",
   "metadata": {},
   "outputs": [],
   "source": [
    "dol2eu = 0.94 # 0.94 euros per US dollar (early 2023)\n",
    "incomes['total_eu'] = dol2eu * incomes['total']\n",
    "incomes"
   ]
  },
  {
   "cell_type": "markdown",
   "id": "4cfe7520",
   "metadata": {},
   "source": [
    "---"
   ]
  },
  {
   "cell_type": "markdown",
   "id": "27576568",
   "metadata": {},
   "source": [
    "In the cell below, add a Boolean (True/False) column that shows if each person's wages exceeds their income from interest."
   ]
  },
  {
   "cell_type": "code",
   "execution_count": null,
   "id": "df5c2f22",
   "metadata": {},
   "outputs": [],
   "source": [
    "# adding a wages vs incomes comparison column\n"
   ]
  },
  {
   "cell_type": "markdown",
   "id": "737ccccf",
   "metadata": {},
   "source": [
    "---"
   ]
  },
  {
   "cell_type": "markdown",
   "id": "aeec5b62",
   "metadata": {},
   "source": [
    "## Summary Statistics"
   ]
  },
  {
   "cell_type": "markdown",
   "id": "3ac617b6",
   "metadata": {},
   "source": [
    "Getting summary statistics is also something that pandas makes really easy. "
   ]
  },
  {
   "cell_type": "markdown",
   "id": "2a7612e9",
   "metadata": {},
   "source": [
    "### Simple descriptive statistics"
   ]
  },
  {
   "cell_type": "markdown",
   "id": "39f20fe0",
   "metadata": {},
   "source": [
    "We can get a quick look an entire `DataFrame` with its `describe()` method (similar to `summary()` in R)."
   ]
  },
  {
   "cell_type": "code",
   "execution_count": null,
   "id": "0af41383",
   "metadata": {},
   "outputs": [],
   "source": [
    "incomes.describe()"
   ]
  },
  {
   "cell_type": "markdown",
   "id": "4fe4cdeb",
   "metadata": {},
   "source": [
    "Notice that `describe()` handled the presence of a string column gracefully by ignoring it rather than producing an error."
   ]
  },
  {
   "cell_type": "markdown",
   "id": "e35a12a5",
   "metadata": {},
   "source": [
    "If we hit the \\<TAB\\> key after `incomes.`, we'll see that `DataFrame` objects have a LOT of methods!"
   ]
  },
  {
   "cell_type": "code",
   "execution_count": null,
   "id": "abfe98ca",
   "metadata": {},
   "outputs": [],
   "source": [
    "incomes."
   ]
  },
  {
   "cell_type": "markdown",
   "id": "3a94b9e9",
   "metadata": {},
   "source": [
    "If we browse around a little, we see that all the common summary statistics like mean, median, standard deviation, etc. are there, and they all have reasonable names. Let's compute the mean"
   ]
  },
  {
   "cell_type": "code",
   "execution_count": null,
   "id": "35b35e32",
   "metadata": {},
   "outputs": [],
   "source": [
    "incomes.mean()"
   ]
  },
  {
   "cell_type": "markdown",
   "id": "228ab7d5",
   "metadata": {},
   "source": [
    "That worked, but it complained (at least my version of pandas did). It wants us to pick only valid (numeric) columns over which to compute the mean. Okay."
   ]
  },
  {
   "cell_type": "code",
   "execution_count": null,
   "id": "b08be0d1",
   "metadata": {},
   "outputs": [],
   "source": [
    "incomes[['wage', 'interest']].mean()"
   ]
  },
  {
   "cell_type": "markdown",
   "id": "48825eb6",
   "metadata": {},
   "source": [
    "---"
   ]
  },
  {
   "cell_type": "markdown",
   "id": "4e962ca9",
   "metadata": {},
   "source": [
    "Compute the standard deviation of total income (in Euros, if you prefer)"
   ]
  },
  {
   "cell_type": "code",
   "execution_count": null,
   "id": "6a9e648c",
   "metadata": {},
   "outputs": [],
   "source": [
    "# deviation of total income\n"
   ]
  },
  {
   "cell_type": "markdown",
   "id": "ed6aa05b",
   "metadata": {},
   "source": [
    "---"
   ]
  },
  {
   "cell_type": "markdown",
   "id": "23110b58",
   "metadata": {},
   "source": [
    "Pro tip: if you *do* want to compute a statistic on *all* the numeric columns on large data frame, you can save typing with `DataFrame.mean(numeric_only = True)`. Try it!"
   ]
  },
  {
   "cell_type": "code",
   "execution_count": null,
   "id": "f3c74f03",
   "metadata": {},
   "outputs": [],
   "source": []
  },
  {
   "cell_type": "markdown",
   "id": "131c1f96",
   "metadata": {},
   "source": [
    "### Computing statistics by group"
   ]
  },
  {
   "cell_type": "markdown",
   "id": "e1ee6df5",
   "metadata": {},
   "source": [
    "We can also easily compute statistics separately based on a grouping variable, like 'gender' for the incomes data.\n",
    "\n",
    "Here's our grouping variable:"
   ]
  },
  {
   "cell_type": "code",
   "execution_count": null,
   "id": "6c5834b1",
   "metadata": {},
   "outputs": [],
   "source": [
    "incomes['gender']"
   ]
  },
  {
   "cell_type": "markdown",
   "id": "1047bd16",
   "metadata": {},
   "source": [
    "And now we'll use it in our data frame's `groupby()` method. Like this."
   ]
  },
  {
   "cell_type": "code",
   "execution_count": null,
   "id": "19aa8c7c",
   "metadata": {},
   "outputs": [],
   "source": [
    "incomes[['total', 'gender']].groupby('gender').mean()"
   ]
  },
  {
   "cell_type": "markdown",
   "id": "7cd0f9d7",
   "metadata": {},
   "source": [
    "If you are coming from the R/tidyverse world (e.g. if you took PSY420 recently), you'll recognize this command as similar to using the pipe (`%>%`).\n",
    "\n",
    "What's happening is that \n",
    "\n",
    "- `incomes[['total', 'gender']]` creates a data frame\n",
    "- `groupby('gender')` creates another data frame grouped by gender\n",
    "- `mean()` computes the mean on the grouped data frame"
   ]
  },
  {
   "cell_type": "markdown",
   "id": "300ded87",
   "metadata": {},
   "source": [
    "So we could (almost) turn this directly into R code that uses the pipe:\n",
    "```\n",
    "incomes[['total', 'gender']] %>%\n",
    "groupby('gender') %>%\n",
    "mean()\n",
    "```"
   ]
  },
  {
   "cell_type": "markdown",
   "id": "5a1dbb99",
   "metadata": {},
   "source": [
    "How many people were in each group? Just use the `value_counts()` method!"
   ]
  },
  {
   "cell_type": "code",
   "execution_count": null,
   "id": "c915e96c",
   "metadata": {},
   "outputs": [],
   "source": [
    "incomes['gender'].value_counts()"
   ]
  },
  {
   "cell_type": "markdown",
   "id": "7fdc6c57",
   "metadata": {},
   "source": [
    "---"
   ]
  },
  {
   "cell_type": "markdown",
   "id": "fbfbaa93",
   "metadata": {},
   "source": [
    "In the cell below, compute the survival rate for passengers on the RMS Titanic grouped by passenger class. \n",
    "\n",
    "(*hint* - having the Survived variable coded as 0 or 1 works to your advantage)"
   ]
  },
  {
   "cell_type": "code",
   "execution_count": null,
   "id": "f85908a1",
   "metadata": {},
   "outputs": [],
   "source": []
  },
  {
   "cell_type": "markdown",
   "id": "f9278d03",
   "metadata": {},
   "source": [
    "---"
   ]
  },
  {
   "cell_type": "markdown",
   "id": "961c18e9",
   "metadata": {},
   "source": [
    "### Multiple statistics using aggregation"
   ]
  },
  {
   "cell_type": "markdown",
   "id": "85dadb44",
   "metadata": {},
   "source": [
    "We can compute many things at once using the `agg()` (aggregate) method. To use this method, we pass it a dictionary in which the keys are column names and the values are lists of valid statistics (i.e. methods that `DataFrames` know about). Like this."
   ]
  },
  {
   "cell_type": "code",
   "execution_count": null,
   "id": "5b8396b5",
   "metadata": {},
   "outputs": [],
   "source": [
    "my_stats_dict = {\n",
    "         \"wage\": [\"mean\", \"std\"],\n",
    "         \"interest\": [\"mean\", \"std\"],\n",
    "         \"total\": [\"mean\", \"std\"]\n",
    "     }\n",
    "\n",
    "incomes.agg(my_stats_dict)\n"
   ]
  },
  {
   "cell_type": "markdown",
   "id": "6f4e71ca",
   "metadata": {},
   "source": [
    "You can do the above in one go (rather than defining a separate `my_stats_dict` object), but it looks a bit messy in our opinion."
   ]
  }
 ],
 "metadata": {
  "kernelspec": {
   "display_name": "Python 3 (ipykernel)",
   "language": "python",
   "name": "python3"
  },
  "language_info": {
   "codemirror_mode": {
    "name": "ipython",
    "version": 3
   },
   "file_extension": ".py",
   "mimetype": "text/x-python",
   "name": "python",
   "nbconvert_exporter": "python",
   "pygments_lexer": "ipython3",
   "version": "3.9.12"
  }
 },
 "nbformat": 4,
 "nbformat_minor": 5
}
