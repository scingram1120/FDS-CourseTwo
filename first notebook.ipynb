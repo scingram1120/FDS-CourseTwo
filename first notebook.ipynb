{
 "cells": [
  {
   "cell_type": "code",
   "execution_count": 2,
   "id": "0b565364",
   "metadata": {},
   "outputs": [
    {
     "name": "stdout",
     "output_type": "stream",
     "text": [
      "Is it a friend of mine\n",
      "Is it a friend of mine\n",
      "Is it a friend of mine\n",
      "Is it a friend of mine\n",
      "Is it a friend of mine\n",
      "Is it a friend of mine\n",
      "Is it a friend of mine\n",
      "Is it a friend of mine\n",
      "Is it a friend of mine\n",
      "Is it a friend of mine\n"
     ]
    }
   ],
   "source": [
    "for i in range(10):\n",
    "    print(\"Is it a friend of mine\")"
   ]
  },
  {
   "cell_type": "code",
   "execution_count": 4,
   "id": "8807b1e9",
   "metadata": {},
   "outputs": [
    {
     "name": "stdout",
     "output_type": "stream",
     "text": [
      "The instructions for creating a jupyter notebook:\n",
      "\t Step one: Create repository in gitbub\n",
      "\t Step two: copy link of repository, paste in terminal under folder and use git clone to clone the folder\n",
      "\t Step three: create new jupyter notebook\n",
      "\t Step four: save, git add notebook\n",
      "\t Step five: git push \n"
     ]
    }
   ],
   "source": [
    "print(\"The instructions for creating a jupyter notebook:\")\n",
    "print(\"\\t Step one: Create repository in gitbub\")\n",
    "print(\"\\t Step two: copy link of repository, paste in terminal under folder and use git clone to clone the folder\")\n",
    "print(\"\\t Step three: create new jupyter notebook\")\n",
    "print(\"\\t Step four: save, git add notebook\")\n",
    "print(\"\\t Step five: git push \")"
   ]
  },
  {
   "cell_type": "code",
   "execution_count": null,
   "id": "75241aa2",
   "metadata": {},
   "outputs": [],
   "source": []
  }
 ],
 "metadata": {
  "kernelspec": {
   "display_name": "Python 3 (ipykernel)",
   "language": "python",
   "name": "python3"
  },
  "language_info": {
   "codemirror_mode": {
    "name": "ipython",
    "version": 3
   },
   "file_extension": ".py",
   "mimetype": "text/x-python",
   "name": "python",
   "nbconvert_exporter": "python",
   "pygments_lexer": "ipython3",
   "version": "3.9.12"
  }
 },
 "nbformat": 4,
 "nbformat_minor": 5
}
