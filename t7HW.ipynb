{
 "cells": [
  {
   "cell_type": "markdown",
   "id": "1f1534b9",
   "metadata": {},
   "source": [
    "# Numpy review homework"
   ]
  },
  {
   "cell_type": "markdown",
   "id": "4db19bcf",
   "metadata": {},
   "source": [
    "1. Make a numpy matrix from a Python list of lists..."
   ]
  },
  {
   "cell_type": "code",
   "execution_count": 14,
   "id": "6b140a06",
   "metadata": {},
   "outputs": [
    {
     "data": {
      "text/plain": [
       "array([[[1, 2, 3],\n",
       "        [0, 5, 4],\n",
       "        [5, 4, 6]],\n",
       "\n",
       "       [[1, 2, 3],\n",
       "        [0, 5, 4],\n",
       "        [5, 4, 6]]])"
      ]
     },
     "execution_count": 14,
     "metadata": {},
     "output_type": "execute_result"
    }
   ],
   "source": [
    "import numpy as np\n",
    "lst = [[1,2,3], [\"This\", \"is\", \"the 2nd\", \"list\"], [5,4,6]]\n",
    "lt = [ [[1,2,3], [0,5,4], [5,4,6]], [[1,2,3], [0,5,4], [5,4,6]] ]\n",
    "\n",
    "mtrix = np.array(lt)\n",
    "mtrix\n",
    "#type(mtrix)"
   ]
  },
  {
   "cell_type": "markdown",
   "id": "dd6e8ffb",
   "metadata": {},
   "source": [
    "2. Make a 3D numpy matrix from a Python list of lists of lists!"
   ]
  },
  {
   "cell_type": "code",
   "execution_count": 15,
   "id": "c977766b",
   "metadata": {},
   "outputs": [
    {
     "data": {
      "text/plain": [
       "(2, 3, 3)"
      ]
     },
     "execution_count": 15,
     "metadata": {},
     "output_type": "execute_result"
    }
   ],
   "source": [
    "mtrix.T\n",
    "mtrix.shape\n"
   ]
  },
  {
   "cell_type": "markdown",
   "id": "8ad64691",
   "metadata": {},
   "source": [
    "3. Create a 5x3 array of Gaussian random numbers. "
   ]
  },
  {
   "cell_type": "code",
   "execution_count": 16,
   "id": "fa150366",
   "metadata": {},
   "outputs": [
    {
     "data": {
      "text/plain": [
       "array([[2.41482983, 2.86263618, 3.27521452],\n",
       "       [3.24173904, 3.37258906, 2.62098773],\n",
       "       [3.20305449, 2.65709843, 2.95488505],\n",
       "       [2.72285202, 2.80506928, 3.1157146 ],\n",
       "       [3.57374693, 3.12167256, 2.80061906]])"
      ]
     },
     "execution_count": 16,
     "metadata": {},
     "output_type": "execute_result"
    }
   ],
   "source": [
    "\n",
    "noise = 3+np.random.randn(5,3)*.25\n",
    "noise"
   ]
  },
  {
   "cell_type": "code",
   "execution_count": 13,
   "id": "5f280edc",
   "metadata": {},
   "outputs": [
    {
     "name": "stdout",
     "output_type": "stream",
     "text": [
      "3.065904766609514\n",
      "2.955260036315778\n",
      "2.758415901857716\n",
      "2.9255984975398177\n",
      "3.0451847260828746\n",
      "2.8075129112308845\n",
      "3.404141995235628\n",
      "2.9473805941822118\n",
      "2.968260370530747\n",
      "3.1454309840403285\n",
      "3.4694309354660113\n",
      "3.424757659886611\n",
      "2.659553435573416\n",
      "3.0343483271554454\n",
      "3.016193949495592\n"
     ]
    }
   ],
   "source": []
  },
  {
   "cell_type": "markdown",
   "id": "d129639e",
   "metadata": {},
   "source": [
    "4. Write a script to go through the array created in 3. and announce (print) the value and its row and column indexes.\n",
    "\n",
    "Hint: Use nested `for` loops - one to loop through the rows and one to loop through the columns."
   ]
  },
  {
   "cell_type": "code",
   "execution_count": 17,
   "id": "e9f6fe03",
   "metadata": {},
   "outputs": [
    {
     "name": "stdout",
     "output_type": "stream",
     "text": [
      "2.4148298253660956\n",
      "2.86263617853444\n",
      "3.2752145229232514\n",
      "3.2417390440819194\n",
      "3.37258905933259\n",
      "2.6209877264780164\n",
      "3.203054486345553\n",
      "2.657098426030127\n",
      "2.9548850497003096\n",
      "2.7228520217367524\n",
      "2.805069279553562\n",
      "3.115714600913683\n",
      "3.5737469274626226\n",
      "3.1216725646619965\n",
      "2.800619061065684\n"
     ]
    }
   ],
   "source": [
    "for i in range(noise.shape[0]) :\n",
    "    for j in range(noise.shape[1]):\n",
    "        print(noise[i,j])\n",
    "###explain"
   ]
  },
  {
   "cell_type": "markdown",
   "id": "2f6c8094",
   "metadata": {},
   "source": [
    "5. Make an new array out of your random numbers such that the mean is 10 and the standard deviation is 3."
   ]
  },
  {
   "cell_type": "code",
   "execution_count": 18,
   "id": "b8cfc374",
   "metadata": {},
   "outputs": [
    {
     "data": {
      "text/plain": [
       "6.351169384531754"
      ]
     },
     "execution_count": 18,
     "metadata": {},
     "output_type": "execute_result"
    }
   ],
   "source": [
    "matrix = np.random.normal(10, 3)\n",
    "matrix"
   ]
  },
  {
   "cell_type": "markdown",
   "id": "431e4556",
   "metadata": {},
   "source": [
    "6. Count the number of values in your new array that are below 7."
   ]
  },
  {
   "cell_type": "code",
   "execution_count": 19,
   "id": "80cb12c5",
   "metadata": {},
   "outputs": [
    {
     "ename": "AttributeError",
     "evalue": "'bool' object has no attribute 'sum'",
     "output_type": "error",
     "traceback": [
      "\u001b[0;31m---------------------------------------------------------------------------\u001b[0m",
      "\u001b[0;31mAttributeError\u001b[0m                            Traceback (most recent call last)",
      "Input \u001b[0;32mIn [19]\u001b[0m, in \u001b[0;36m<cell line: 1>\u001b[0;34m()\u001b[0m\n\u001b[0;32m----> 1\u001b[0m \u001b[38;5;28mprint\u001b[39m(\u001b[38;5;124m\"\u001b[39m\u001b[38;5;124mCount of values below 7:\u001b[39m\u001b[38;5;124m\"\u001b[39m, \u001b[43m(\u001b[49m\u001b[43mmatrix\u001b[49m\u001b[43m \u001b[49m\u001b[38;5;241;43m<\u001b[39;49m\u001b[43m \u001b[49m\u001b[38;5;241;43m7\u001b[39;49m\u001b[43m)\u001b[49m\u001b[38;5;241;43m.\u001b[39;49m\u001b[43msum\u001b[49m())\n",
      "\u001b[0;31mAttributeError\u001b[0m: 'bool' object has no attribute 'sum'"
     ]
    }
   ],
   "source": [
    "print(\"Count of values below 7:\", (matrix < 7).sum())"
   ]
  },
  {
   "cell_type": "markdown",
   "id": "f7191a90",
   "metadata": {},
   "source": [
    "7. Make a numpy sequence that has the even numbers from 2 up to (and including) 20."
   ]
  },
  {
   "cell_type": "code",
   "execution_count": 21,
   "id": "23277d0c",
   "metadata": {},
   "outputs": [
    {
     "data": {
      "text/plain": [
       "array([18,  4, 11,  8, 16, 11,  4,  7, 14,  3, 13, 10, 14,  4, 18, 14,  6,\n",
       "       18,  9,  2])"
      ]
     },
     "execution_count": 21,
     "metadata": {},
     "output_type": "execute_result"
    }
   ],
   "source": [
    "int_noise = n.random.randint(2,20,20)\n",
    "int_noise"
   ]
  },
  {
   "cell_type": "markdown",
   "id": "40bd499e",
   "metadata": {},
   "source": [
    "8. Get the second and third rows of your array."
   ]
  },
  {
   "cell_type": "code",
   "execution_count": 22,
   "id": "1abb0c7b",
   "metadata": {},
   "outputs": [
    {
     "data": {
      "text/plain": [
       "array([ 4, 11])"
      ]
     },
     "execution_count": 22,
     "metadata": {},
     "output_type": "execute_result"
    }
   ],
   "source": [
    "int_noise[1:3]"
   ]
  },
  {
   "cell_type": "markdown",
   "id": "1c3779c3",
   "metadata": {},
   "source": [
    "9. Compute the mean of the columns of your array."
   ]
  },
  {
   "cell_type": "code",
   "execution_count": 24,
   "id": "4e166283",
   "metadata": {},
   "outputs": [
    {
     "data": {
      "text/plain": [
       "10.2"
      ]
     },
     "execution_count": 24,
     "metadata": {},
     "output_type": "execute_result"
    }
   ],
   "source": [
    "int_noise.mean()"
   ]
  },
  {
   "cell_type": "code",
   "execution_count": null,
   "id": "67220626",
   "metadata": {},
   "outputs": [],
   "source": []
  }
 ],
 "metadata": {
  "kernelspec": {
   "display_name": "Python 3 (ipykernel)",
   "language": "python",
   "name": "python3"
  },
  "language_info": {
   "codemirror_mode": {
    "name": "ipython",
    "version": 3
   },
   "file_extension": ".py",
   "mimetype": "text/x-python",
   "name": "python",
   "nbconvert_exporter": "python",
   "pygments_lexer": "ipython3",
   "version": "3.9.12"
  }
 },
 "nbformat": 4,
 "nbformat_minor": 5
}
